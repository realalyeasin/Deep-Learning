{
  "nbformat": 4,
  "nbformat_minor": 0,
  "metadata": {
    "colab": {
      "name": "TensorFlow_002.ipynb",
      "provenance": [],
      "authorship_tag": "ABX9TyPhCwkvJxJHrZ7qnA77fbpM",
      "include_colab_link": true
    },
    "kernelspec": {
      "name": "python3",
      "display_name": "Python 3"
    },
    "language_info": {
      "name": "python"
    }
  },
  "cells": [
    {
      "cell_type": "markdown",
      "metadata": {
        "id": "view-in-github",
        "colab_type": "text"
      },
      "source": [
        "<a href=\"https://colab.research.google.com/github/realalyeasin/Deep-Learning/blob/main/TensorFlow_002.ipynb\" target=\"_parent\"><img src=\"https://colab.research.google.com/assets/colab-badge.svg\" alt=\"Open In Colab\"/></a>"
      ]
    },
    {
      "cell_type": "markdown",
      "source": [
        "#**Tensorflow**"
      ],
      "metadata": {
        "id": "TDySwaGzgWMo"
      }
    },
    {
      "cell_type": "code",
      "execution_count": 17,
      "metadata": {
        "id": "99K-wKDOgM5E"
      },
      "outputs": [],
      "source": [
        "import tensorflow as tf\n",
        "import numpy as np\n",
        "import matplotlib.pyplot as plt"
      ]
    },
    {
      "cell_type": "code",
      "source": [
        "X = np.array([ 13, -34,  33, -21,  94,  12,  25,   3,  24,  12, -37,  -1, -17,\n",
        "         20,  51,  19,  64,  -1,  51,  44], dtype=np.float32)\n",
        "y = np.array([61, -17,  36,  69, -10,  15,  80, -39,  33,   6,  72,  -8,  21,\n",
        "         28,  62,  88, -42,   5,  63,  56], dtype=np.float32)\n",
        "X, y"
      ],
      "metadata": {
        "colab": {
          "base_uri": "https://localhost:8080/"
        },
        "id": "PsxrWkncgVHt",
        "outputId": "4c0be622-bfc5-445f-886b-14b3feffa81d"
      },
      "execution_count": 50,
      "outputs": [
        {
          "output_type": "execute_result",
          "data": {
            "text/plain": [
              "(array([ 13., -34.,  33., -21.,  94.,  12.,  25.,   3.,  24.,  12., -37.,\n",
              "         -1., -17.,  20.,  51.,  19.,  64.,  -1.,  51.,  44.],\n",
              "       dtype=float32),\n",
              " array([ 61., -17.,  36.,  69., -10.,  15.,  80., -39.,  33.,   6.,  72.,\n",
              "         -8.,  21.,  28.,  62.,  88., -42.,   5.,  63.,  56.],\n",
              "       dtype=float32))"
            ]
          },
          "metadata": {},
          "execution_count": 50
        }
      ]
    },
    {
      "cell_type": "code",
      "source": [
        "X = tf.constant(X, dtype=tf.float32)\n",
        "y = tf.constant(y, dtype=tf.float32)\n",
        "X, y"
      ],
      "metadata": {
        "colab": {
          "base_uri": "https://localhost:8080/"
        },
        "id": "9Cqcq8s7lFbN",
        "outputId": "229209fd-911a-46fa-8ca5-351ee321e23b"
      },
      "execution_count": 51,
      "outputs": [
        {
          "output_type": "execute_result",
          "data": {
            "text/plain": [
              "(<tf.Tensor: shape=(20,), dtype=float32, numpy=\n",
              " array([ 13., -34.,  33., -21.,  94.,  12.,  25.,   3.,  24.,  12., -37.,\n",
              "         -1., -17.,  20.,  51.,  19.,  64.,  -1.,  51.,  44.],\n",
              "       dtype=float32)>, <tf.Tensor: shape=(20,), dtype=float32, numpy=\n",
              " array([ 61., -17.,  36.,  69., -10.,  15.,  80., -39.,  33.,   6.,  72.,\n",
              "         -8.,  21.,  28.,  62.,  88., -42.,   5.,  63.,  56.],\n",
              "       dtype=float32)>)"
            ]
          },
          "metadata": {},
          "execution_count": 51
        }
      ]
    },
    {
      "cell_type": "code",
      "source": [
        "X[0].shape"
      ],
      "metadata": {
        "colab": {
          "base_uri": "https://localhost:8080/"
        },
        "id": "bgtHGMOVlbWE",
        "outputId": "71e290f9-badd-4b24-ee4d-ead42d1ab93a"
      },
      "execution_count": 52,
      "outputs": [
        {
          "output_type": "execute_result",
          "data": {
            "text/plain": [
              "TensorShape([])"
            ]
          },
          "metadata": {},
          "execution_count": 52
        }
      ]
    },
    {
      "cell_type": "code",
      "source": [
        "plt.scatter(X,y)"
      ],
      "metadata": {
        "colab": {
          "base_uri": "https://localhost:8080/",
          "height": 283
        },
        "id": "bfN2FHSEhCOP",
        "outputId": "42a27d0c-1c60-43c6-8746-b20a64fcdd0d"
      },
      "execution_count": 53,
      "outputs": [
        {
          "output_type": "execute_result",
          "data": {
            "text/plain": [
              "<matplotlib.collections.PathCollection at 0x7fc96813df50>"
            ]
          },
          "metadata": {},
          "execution_count": 53
        },
        {
          "output_type": "display_data",
          "data": {
            "text/plain": [
              "<Figure size 432x288 with 1 Axes>"
            ],
            "image/png": "[encoded data removed]"
          },
          "metadata": {
            "needs_background": "light"
          }
        }
      ]
    },
    {
      "cell_type": "markdown",
      "source": [
        "***Model***"
      ],
      "metadata": {
        "id": "W1UUXvY5iRLU"
      }
    },
    {
      "cell_type": "code",
      "source": [
        "\n",
        "model = tf.keras.Sequential([tf.keras.layers.Dense(100),\n",
        "                             tf.keras.layers.Dense(10),\n",
        "                             tf.keras.layers.Dense(1),])\n",
        "\n",
        "model.compile(loss=tf.keras.losses.mae,\n",
        "              optimizer='Adam',\n",
        "              metrics=[\"mae\"])\n",
        "\n",
        "model.fit(tf.expand_dims(X, axis=-1), y, epochs=10)"
      ],
      "metadata": {
        "colab": {
          "base_uri": "https://localhost:8080/"
        },
        "id": "8zlV6ELFhzOH",
        "outputId": "7c57ef22-b3f3-4ec9-d30a-f0992e1b8958"
      },
      "execution_count": 81,
      "outputs": [
        {
          "output_type": "stream",
          "name": "stdout",
          "text": [
            "Epoch 1/10\n",
            "1/1 [==============================] - 0s 381ms/step - loss: 38.4282 - mae: 38.4282\n",
            "Epoch 2/10\n",
            "1/1 [==============================] - 0s 7ms/step - loss: 38.0721 - mae: 38.0721\n",
            "Epoch 3/10\n",
            "1/1 [==============================] - 0s 7ms/step - loss: 37.9509 - mae: 37.9509\n",
            "Epoch 4/10\n",
            "1/1 [==============================] - 0s 6ms/step - loss: 37.9113 - mae: 37.9113\n",
            "Epoch 5/10\n",
            "1/1 [==============================] - 0s 6ms/step - loss: 37.8753 - mae: 37.8753\n",
            "Epoch 6/10\n",
            "1/1 [==============================] - 0s 6ms/step - loss: 37.8415 - mae: 37.8415\n",
            "Epoch 7/10\n",
            "1/1 [==============================] - 0s 7ms/step - loss: 37.8094 - mae: 37.8094\n",
            "Epoch 8/10\n",
            "1/1 [==============================] - 0s 12ms/step - loss: 37.7786 - mae: 37.7786\n",
            "Epoch 9/10\n",
            "1/1 [==============================] - 0s 6ms/step - loss: 37.7485 - mae: 37.7485\n",
            "Epoch 10/10\n",
            "1/1 [==============================] - 0s 6ms/step - loss: 37.7192 - mae: 37.7192\n"
          ]
        },
        {
          "output_type": "execute_result",
          "data": {
            "text/plain": [
              "<keras.callbacks.History at 0x7fc962f29f10>"
            ]
          },
          "metadata": {},
          "execution_count": 81
        }
      ]
    }
  ]
}
{
  "nbformat": 4,
  "nbformat_minor": 0,
  "metadata": {
    "colab": {
      "name": " TensorFlow_001.ipynb",
      "provenance": [],
      "collapsed_sections": [],
      "authorship_tag": "ABX9TyOok4GhiKD8ctqQdBpitFDZ",
      "include_colab_link": true
    },
    "kernelspec": {
      "name": "python3",
      "display_name": "Python 3"
    },
    "language_info": {
      "name": "python"
    }
  },
  "cells": [
    {
      "cell_type": "markdown",
      "metadata": {
        "id": "view-in-github",
        "colab_type": "text"
      },
      "source": [
        "<a href=\"https://colab.research.google.com/github/realalyeasin/Deep-Learning/blob/main/TensorFlow_001.ipynb\" target=\"_parent\"><img src=\"https://colab.research.google.com/assets/colab-badge.svg\" alt=\"Open In Colab\"/></a>"
      ]
    },
    {
      "cell_type": "markdown",
      "source": [
        "# ***Introducion to TensorFlow***\n",
        "---\n",
        "\n",
        "---\n",
        "\n",
        "\n",
        "\n",
        "*   Intro\n",
        "*   Info\n",
        "*   Manipulating\n",
        "*   Numpy\n",
        "*   @tf.function\n",
        "*   GPU\n",
        "\n",
        "\n",
        "\n",
        "\n",
        "\n"
      ],
      "metadata": {
        "id": "9MNgI8k2k93j"
      }
    },
    {
      "cell_type": "markdown",
      "source": [
        "***Intro***"
      ],
      "metadata": {
        "id": "2DlqxJDVnYfe"
      }
    },
    {
      "cell_type": "code",
      "source": [
        "#Importing\n",
        "import tensorflow as tf\n",
        "print(tf.__version__)"
      ],
      "metadata": {
        "colab": {
          "base_uri": "https://localhost:8080/"
        },
        "id": "MOt__dtlncxu",
        "outputId": "b15ff119-5bc1-4b80-ddbf-e6c67e1911a1"
      },
      "execution_count": 2,
      "outputs": [
        {
          "output_type": "stream",
          "name": "stdout",
          "text": [
            "2.8.0\n"
          ]
        }
      ]
    },
    {
      "cell_type": "markdown",
      "source": [
        "***Creating tensors with tf.constant()***"
      ],
      "metadata": {
        "id": "S2OC8ONNn0pA"
      }
    },
    {
      "cell_type": "code",
      "source": [
        "scaler = tf.constant(120)\n",
        "scaler"
      ],
      "metadata": {
        "colab": {
          "base_uri": "https://localhost:8080/"
        },
        "id": "eZPA5g8JnwAF",
        "outputId": "2c71271f-be7b-4fce-b800-ae3d738f9452"
      },
      "execution_count": 3,
      "outputs": [
        {
          "output_type": "execute_result",
          "data": {
            "text/plain": [
              "<tf.Tensor: shape=(), dtype=int32, numpy=120>"
            ]
          },
          "metadata": {},
          "execution_count": 3
        }
      ]
    },
    {
      "cell_type": "code",
      "source": [
        "scaler.ndim"
      ],
      "metadata": {
        "colab": {
          "base_uri": "https://localhost:8080/"
        },
        "id": "nPLoVKujorBo",
        "outputId": "02dfbd3b-9adf-4e56-99fd-24e868112e66"
      },
      "execution_count": 4,
      "outputs": [
        {
          "output_type": "execute_result",
          "data": {
            "text/plain": [
              "0"
            ]
          },
          "metadata": {},
          "execution_count": 4
        }
      ]
    },
    {
      "cell_type": "code",
      "source": [
        "vector = tf.constant([76,79,10])\n",
        "vector"
      ],
      "metadata": {
        "colab": {
          "base_uri": "https://localhost:8080/"
        },
        "id": "1LGGjAvuowsN",
        "outputId": "1f56caed-7885-446e-8654-2cf50655833a"
      },
      "execution_count": 5,
      "outputs": [
        {
          "output_type": "execute_result",
          "data": {
            "text/plain": [
              "<tf.Tensor: shape=(3,), dtype=int32, numpy=array([76, 79, 10], dtype=int32)>"
            ]
          },
          "metadata": {},
          "execution_count": 5
        }
      ]
    },
    {
      "cell_type": "code",
      "source": [
        "vector.ndim"
      ],
      "metadata": {
        "colab": {
          "base_uri": "https://localhost:8080/"
        },
        "id": "XPRfbHpJqIXf",
        "outputId": "b16c7651-f378-4c15-e7fe-4ee2f3638718"
      },
      "execution_count": 6,
      "outputs": [
        {
          "output_type": "execute_result",
          "data": {
            "text/plain": [
              "1"
            ]
          },
          "metadata": {},
          "execution_count": 6
        }
      ]
    },
    {
      "cell_type": "code",
      "source": [
        "matrix = tf.constant([[263,726,917],[625,27,182]])\n",
        "matrix"
      ],
      "metadata": {
        "colab": {
          "base_uri": "https://localhost:8080/"
        },
        "id": "i-pmGD27qM7N",
        "outputId": "acd0cf7b-bbb7-4b7c-cbb6-c06621b2eb87"
      },
      "execution_count": 7,
      "outputs": [
        {
          "output_type": "execute_result",
          "data": {
            "text/plain": [
              "<tf.Tensor: shape=(2, 3), dtype=int32, numpy=\n",
              "array([[263, 726, 917],\n",
              "       [625,  27, 182]], dtype=int32)>"
            ]
          },
          "metadata": {},
          "execution_count": 7
        }
      ]
    },
    {
      "cell_type": "code",
      "source": [
        "matrix.ndim"
      ],
      "metadata": {
        "colab": {
          "base_uri": "https://localhost:8080/"
        },
        "id": "JckV2Njdq0dE",
        "outputId": "fc83427d-ada7-4dac-edfe-03f30941bac1"
      },
      "execution_count": 8,
      "outputs": [
        {
          "output_type": "execute_result",
          "data": {
            "text/plain": [
              "2"
            ]
          },
          "metadata": {},
          "execution_count": 8
        }
      ]
    },
    {
      "cell_type": "code",
      "source": [
        "tensor = tf.constant([[[1,2,3],\n",
        "                       [4,5,6]],\n",
        "                      [[11,12,13],\n",
        "                       [71,52,43]],\n",
        "                      [[22,44,36],\n",
        "                       [22,54,32]]\n",
        "                      ])\n",
        "tensor"
      ],
      "metadata": {
        "colab": {
          "base_uri": "https://localhost:8080/"
        },
        "id": "CinmCOysq3Wy",
        "outputId": "76bdd545-87db-4051-e3d7-255d5d1d7ff8"
      },
      "execution_count": 9,
      "outputs": [
        {
          "output_type": "execute_result",
          "data": {
            "text/plain": [
              "<tf.Tensor: shape=(3, 2, 3), dtype=int32, numpy=\n",
              "array([[[ 1,  2,  3],\n",
              "        [ 4,  5,  6]],\n",
              "\n",
              "       [[11, 12, 13],\n",
              "        [71, 52, 43]],\n",
              "\n",
              "       [[22, 44, 36],\n",
              "        [22, 54, 32]]], dtype=int32)>"
            ]
          },
          "metadata": {},
          "execution_count": 9
        }
      ]
    },
    {
      "cell_type": "code",
      "source": [
        "tensor.ndim"
      ],
      "metadata": {
        "colab": {
          "base_uri": "https://localhost:8080/"
        },
        "id": "WFqe1qfNspiE",
        "outputId": "9ee4b236-6975-4ef8-e5ec-0b3b5286e0d6"
      },
      "execution_count": 10,
      "outputs": [
        {
          "output_type": "execute_result",
          "data": {
            "text/plain": [
              "3"
            ]
          },
          "metadata": {},
          "execution_count": 10
        }
      ]
    },
    {
      "cell_type": "code",
      "source": [
        "x = tf.Variable([100,200,300])\n",
        "x"
      ],
      "metadata": {
        "colab": {
          "base_uri": "https://localhost:8080/"
        },
        "id": "eGAo0fNxsx_f",
        "outputId": "eb7e9111-f8d7-4321-e7e3-91b5feb3a0e7"
      },
      "execution_count": 11,
      "outputs": [
        {
          "output_type": "execute_result",
          "data": {
            "text/plain": [
              "<tf.Variable 'Variable:0' shape=(3,) dtype=int32, numpy=array([100, 200, 300], dtype=int32)>"
            ]
          },
          "metadata": {},
          "execution_count": 11
        }
      ]
    },
    {
      "cell_type": "code",
      "source": [
        "x[2].assign(250)\n",
        "x"
      ],
      "metadata": {
        "colab": {
          "base_uri": "https://localhost:8080/"
        },
        "id": "IexNszDdwkGL",
        "outputId": "57e696a1-ec9d-4899-940c-42337b912966"
      },
      "execution_count": 12,
      "outputs": [
        {
          "output_type": "execute_result",
          "data": {
            "text/plain": [
              "<tf.Variable 'Variable:0' shape=(3,) dtype=int32, numpy=array([100, 200, 250], dtype=int32)>"
            ]
          },
          "metadata": {},
          "execution_count": 12
        }
      ]
    },
    {
      "cell_type": "markdown",
      "source": [
        "***Random Tensor***"
      ],
      "metadata": {
        "id": "i9jFiCpizFCv"
      }
    },
    {
      "cell_type": "code",
      "source": [
        "x1 = tf.random.Generator.from_seed(10)\n",
        "x1 = x1.normal(shape=(2,1,4))\n",
        "x2 = tf.random.Generator.from_seed(10)\n",
        "x2 = x2.normal(shape=(2,1,4))"
      ],
      "metadata": {
        "id": "q4gyqbQ_zIkI"
      },
      "execution_count": 13,
      "outputs": []
    },
    {
      "cell_type": "code",
      "source": [
        "x1, x2, x1 == x2"
      ],
      "metadata": {
        "colab": {
          "base_uri": "https://localhost:8080/"
        },
        "id": "72bCo1OBzgF5",
        "outputId": "e4d1dace-891d-48b1-c53e-26116e30d117"
      },
      "execution_count": 14,
      "outputs": [
        {
          "output_type": "execute_result",
          "data": {
            "text/plain": [
              "(<tf.Tensor: shape=(2, 1, 4), dtype=float32, numpy=\n",
              " array([[[-0.29604465, -0.21134205,  0.01063002,  1.5165398 ]],\n",
              " \n",
              "        [[ 0.27305737, -0.29925638, -0.3652325 ,  0.61883307]]],\n",
              "       dtype=float32)>, <tf.Tensor: shape=(2, 1, 4), dtype=float32, numpy=\n",
              " array([[[-0.29604465, -0.21134205,  0.01063002,  1.5165398 ]],\n",
              " \n",
              "        [[ 0.27305737, -0.29925638, -0.3652325 ,  0.61883307]]],\n",
              "       dtype=float32)>, <tf.Tensor: shape=(2, 1, 4), dtype=bool, numpy=\n",
              " array([[[ True,  True,  True,  True]],\n",
              " \n",
              "        [[ True,  True,  True,  True]]])>)"
            ]
          },
          "metadata": {},
          "execution_count": 14
        }
      ]
    },
    {
      "cell_type": "markdown",
      "source": [
        "***Shuffle***"
      ],
      "metadata": {
        "id": "x9negKhD8J9t"
      }
    },
    {
      "cell_type": "code",
      "source": [
        "tf.random.set_seed(42)\n",
        "tf.random.shuffle(x1)"
      ],
      "metadata": {
        "colab": {
          "base_uri": "https://localhost:8080/"
        },
        "id": "3iicN_1EzhCI",
        "outputId": "251f576d-d880-4486-e086-7b9129a20270"
      },
      "execution_count": 15,
      "outputs": [
        {
          "output_type": "execute_result",
          "data": {
            "text/plain": [
              "<tf.Tensor: shape=(2, 1, 4), dtype=float32, numpy=\n",
              "array([[[ 0.27305737, -0.29925638, -0.3652325 ,  0.61883307]],\n",
              "\n",
              "       [[-0.29604465, -0.21134205,  0.01063002,  1.5165398 ]]],\n",
              "      dtype=float32)>"
            ]
          },
          "metadata": {},
          "execution_count": 15
        }
      ]
    },
    {
      "cell_type": "code",
      "source": [
        "tf.ones([2,10])"
      ],
      "metadata": {
        "colab": {
          "base_uri": "https://localhost:8080/"
        },
        "id": "W5bgTihs8oLE",
        "outputId": "98d30f2c-f338-48c3-d87a-a68dba1013a4"
      },
      "execution_count": 16,
      "outputs": [
        {
          "output_type": "execute_result",
          "data": {
            "text/plain": [
              "<tf.Tensor: shape=(2, 10), dtype=float32, numpy=\n",
              "array([[1., 1., 1., 1., 1., 1., 1., 1., 1., 1.],\n",
              "       [1., 1., 1., 1., 1., 1., 1., 1., 1., 1.]], dtype=float32)>"
            ]
          },
          "metadata": {},
          "execution_count": 16
        }
      ]
    },
    {
      "cell_type": "code",
      "source": [
        "tf.zeros([2,10])"
      ],
      "metadata": {
        "colab": {
          "base_uri": "https://localhost:8080/"
        },
        "id": "IH3BvLoj_h0a",
        "outputId": "96ef7017-c8cc-4fc6-a56d-3e59055cede4"
      },
      "execution_count": 17,
      "outputs": [
        {
          "output_type": "execute_result",
          "data": {
            "text/plain": [
              "<tf.Tensor: shape=(2, 10), dtype=float32, numpy=\n",
              "array([[0., 0., 0., 0., 0., 0., 0., 0., 0., 0.],\n",
              "       [0., 0., 0., 0., 0., 0., 0., 0., 0., 0.]], dtype=float32)>"
            ]
          },
          "metadata": {},
          "execution_count": 17
        }
      ]
    },
    {
      "cell_type": "markdown",
      "source": [
        "***Numpy Array into Tensor***"
      ],
      "metadata": {
        "id": "r1W_oaGq_9ba"
      }
    },
    {
      "cell_type": "code",
      "source": [
        "import numpy as np\n",
        "numpy_A = np.arange(1,20,2, dtype=np.int32)\n",
        "numpy_A"
      ],
      "metadata": {
        "colab": {
          "base_uri": "https://localhost:8080/"
        },
        "id": "UHidxVo3_01c",
        "outputId": "e9091cfd-3d7c-49ee-cedb-3fa73e716455"
      },
      "execution_count": 18,
      "outputs": [
        {
          "output_type": "execute_result",
          "data": {
            "text/plain": [
              "array([ 1,  3,  5,  7,  9, 11, 13, 15, 17, 19], dtype=int32)"
            ]
          },
          "metadata": {},
          "execution_count": 18
        }
      ]
    },
    {
      "cell_type": "code",
      "source": [
        "A = tf.constant(numpy_A)\n",
        "B = tf.constant(numpy_A, shape=(2,5))"
      ],
      "metadata": {
        "id": "G1bUjTVNBAos"
      },
      "execution_count": 19,
      "outputs": []
    },
    {
      "cell_type": "markdown",
      "source": [
        "***Info***\n",
        "* Shape\n",
        "* Rank\n",
        "* Axis\n",
        "* Size"
      ],
      "metadata": {
        "id": "d39kE1x_DRoE"
      }
    },
    {
      "cell_type": "code",
      "source": [
        "A = tf.ones(shape=[2,3,5,8])\n",
        "A"
      ],
      "metadata": {
        "colab": {
          "base_uri": "https://localhost:8080/"
        },
        "id": "sRHbhwsuBapG",
        "outputId": "bd2b5aba-ca8c-4df0-950c-bd2afb9975b7"
      },
      "execution_count": 20,
      "outputs": [
        {
          "output_type": "execute_result",
          "data": {
            "text/plain": [
              "<tf.Tensor: shape=(2, 3, 5, 8), dtype=float32, numpy=\n",
              "array([[[[1., 1., 1., 1., 1., 1., 1., 1.],\n",
              "         [1., 1., 1., 1., 1., 1., 1., 1.],\n",
              "         [1., 1., 1., 1., 1., 1., 1., 1.],\n",
              "         [1., 1., 1., 1., 1., 1., 1., 1.],\n",
              "         [1., 1., 1., 1., 1., 1., 1., 1.]],\n",
              "\n",
              "        [[1., 1., 1., 1., 1., 1., 1., 1.],\n",
              "         [1., 1., 1., 1., 1., 1., 1., 1.],\n",
              "         [1., 1., 1., 1., 1., 1., 1., 1.],\n",
              "         [1., 1., 1., 1., 1., 1., 1., 1.],\n",
              "         [1., 1., 1., 1., 1., 1., 1., 1.]],\n",
              "\n",
              "        [[1., 1., 1., 1., 1., 1., 1., 1.],\n",
              "         [1., 1., 1., 1., 1., 1., 1., 1.],\n",
              "         [1., 1., 1., 1., 1., 1., 1., 1.],\n",
              "         [1., 1., 1., 1., 1., 1., 1., 1.],\n",
              "         [1., 1., 1., 1., 1., 1., 1., 1.]]],\n",
              "\n",
              "\n",
              "       [[[1., 1., 1., 1., 1., 1., 1., 1.],\n",
              "         [1., 1., 1., 1., 1., 1., 1., 1.],\n",
              "         [1., 1., 1., 1., 1., 1., 1., 1.],\n",
              "         [1., 1., 1., 1., 1., 1., 1., 1.],\n",
              "         [1., 1., 1., 1., 1., 1., 1., 1.]],\n",
              "\n",
              "        [[1., 1., 1., 1., 1., 1., 1., 1.],\n",
              "         [1., 1., 1., 1., 1., 1., 1., 1.],\n",
              "         [1., 1., 1., 1., 1., 1., 1., 1.],\n",
              "         [1., 1., 1., 1., 1., 1., 1., 1.],\n",
              "         [1., 1., 1., 1., 1., 1., 1., 1.]],\n",
              "\n",
              "        [[1., 1., 1., 1., 1., 1., 1., 1.],\n",
              "         [1., 1., 1., 1., 1., 1., 1., 1.],\n",
              "         [1., 1., 1., 1., 1., 1., 1., 1.],\n",
              "         [1., 1., 1., 1., 1., 1., 1., 1.],\n",
              "         [1., 1., 1., 1., 1., 1., 1., 1.]]]], dtype=float32)>"
            ]
          },
          "metadata": {},
          "execution_count": 20
        }
      ]
    },
    {
      "cell_type": "code",
      "source": [
        "print(\"Datatype\", A.dtype)\n",
        "print(\"Dimensions\", A.ndim)\n",
        "print(\"Shape\", A.shape)\n",
        "print(\"0 Axis\", A.shape[0])\n",
        "print(\"Last Axis\", A.shape[-1])\n",
        "print(\"Total Elements\", tf.size(A))\n",
        "print(\"Total Elements\", tf.size(A).numpy())"
      ],
      "metadata": {
        "colab": {
          "base_uri": "https://localhost:8080/"
        },
        "id": "e96HYoreFIWF",
        "outputId": "36a0096d-387c-44eb-9cef-86ca89656041"
      },
      "execution_count": 21,
      "outputs": [
        {
          "output_type": "stream",
          "name": "stdout",
          "text": [
            "Datatype <dtype: 'float32'>\n",
            "Dimensions 4\n",
            "Shape (2, 3, 5, 8)\n",
            "0 Axis 2\n",
            "Last Axis 8\n",
            "Total Elements tf.Tensor(240, shape=(), dtype=int32)\n",
            "Total Elements 240\n"
          ]
        }
      ]
    },
    {
      "cell_type": "markdown",
      "source": [
        "***Indexing***"
      ],
      "metadata": {
        "id": "QPVR2azQ9Esp"
      }
    },
    {
      "cell_type": "code",
      "source": [
        "a = np.random.randint(5,100, size=24)\n",
        "tf.constant(a)"
      ],
      "metadata": {
        "id": "WCl52OGQFXpW",
        "colab": {
          "base_uri": "https://localhost:8080/"
        },
        "outputId": "274631e6-b238-4021-983b-c80a531f27ef"
      },
      "execution_count": 22,
      "outputs": [
        {
          "output_type": "execute_result",
          "data": {
            "text/plain": [
              "<tf.Tensor: shape=(24,), dtype=int64, numpy=\n",
              "array([53, 17, 54, 74, 60, 66, 46, 16, 26, 45, 18, 14,  5, 36, 49, 56, 32,\n",
              "       82, 87, 56, 78, 80, 23, 56])>"
            ]
          },
          "metadata": {},
          "execution_count": 22
        }
      ]
    },
    {
      "cell_type": "code",
      "source": [
        "a[:6]"
      ],
      "metadata": {
        "colab": {
          "base_uri": "https://localhost:8080/"
        },
        "id": "y0iXtG6r-FDg",
        "outputId": "b571126f-dd5c-46aa-c6ab-58caed8991c5"
      },
      "execution_count": 23,
      "outputs": [
        {
          "output_type": "execute_result",
          "data": {
            "text/plain": [
              "array([53, 17, 54, 74, 60, 66])"
            ]
          },
          "metadata": {},
          "execution_count": 23
        }
      ]
    },
    {
      "cell_type": "code",
      "source": [
        "A = tf.constant(a, shape=[2,4,3])\n",
        "A"
      ],
      "metadata": {
        "colab": {
          "base_uri": "https://localhost:8080/"
        },
        "id": "FjtqrKUE-ZEC",
        "outputId": "035eadf0-8f46-49aa-8bda-1b3f5c7fbac6"
      },
      "execution_count": 24,
      "outputs": [
        {
          "output_type": "execute_result",
          "data": {
            "text/plain": [
              "<tf.Tensor: shape=(2, 4, 3), dtype=int64, numpy=\n",
              "array([[[53, 17, 54],\n",
              "        [74, 60, 66],\n",
              "        [46, 16, 26],\n",
              "        [45, 18, 14]],\n",
              "\n",
              "       [[ 5, 36, 49],\n",
              "        [56, 32, 82],\n",
              "        [87, 56, 78],\n",
              "        [80, 23, 56]]])>"
            ]
          },
          "metadata": {},
          "execution_count": 24
        }
      ]
    },
    {
      "cell_type": "code",
      "source": [
        "A[:1,-1,:2]"
      ],
      "metadata": {
        "colab": {
          "base_uri": "https://localhost:8080/"
        },
        "id": "vKrS3sAz_AWD",
        "outputId": "63664e28-f186-4c07-b0ce-51dccc677e99"
      },
      "execution_count": 25,
      "outputs": [
        {
          "output_type": "execute_result",
          "data": {
            "text/plain": [
              "<tf.Tensor: shape=(1, 2), dtype=int64, numpy=array([[45, 18]])>"
            ]
          },
          "metadata": {},
          "execution_count": 25
        }
      ]
    },
    {
      "cell_type": "code",
      "source": [
        "A[:1, -2, -2]"
      ],
      "metadata": {
        "colab": {
          "base_uri": "https://localhost:8080/"
        },
        "id": "vTpFffGD_ql4",
        "outputId": "69162862-f982-4106-9bab-ac11f9df1340"
      },
      "execution_count": 26,
      "outputs": [
        {
          "output_type": "execute_result",
          "data": {
            "text/plain": [
              "<tf.Tensor: shape=(1,), dtype=int64, numpy=array([16])>"
            ]
          },
          "metadata": {},
          "execution_count": 26
        }
      ]
    },
    {
      "cell_type": "code",
      "source": [
        "A[:1, -2]"
      ],
      "metadata": {
        "colab": {
          "base_uri": "https://localhost:8080/"
        },
        "id": "xo7EYHwwArqB",
        "outputId": "b619cd1e-9297-4a14-a734-15f338a813e4"
      },
      "execution_count": 27,
      "outputs": [
        {
          "output_type": "execute_result",
          "data": {
            "text/plain": [
              "<tf.Tensor: shape=(1, 3), dtype=int64, numpy=array([[46, 16, 26]])>"
            ]
          },
          "metadata": {},
          "execution_count": 27
        }
      ]
    },
    {
      "cell_type": "code",
      "source": [
        "A[:1,:,:1]"
      ],
      "metadata": {
        "colab": {
          "base_uri": "https://localhost:8080/"
        },
        "id": "LwYbwEBjBzU8",
        "outputId": "481e9e03-866d-404b-c5bd-9d8ded5c5293"
      },
      "execution_count": 28,
      "outputs": [
        {
          "output_type": "execute_result",
          "data": {
            "text/plain": [
              "<tf.Tensor: shape=(1, 4, 1), dtype=int64, numpy=\n",
              "array([[[53],\n",
              "        [74],\n",
              "        [46],\n",
              "        [45]]])>"
            ]
          },
          "metadata": {},
          "execution_count": 28
        }
      ]
    },
    {
      "cell_type": "code",
      "source": [
        "A[:,-1,-1]"
      ],
      "metadata": {
        "colab": {
          "base_uri": "https://localhost:8080/"
        },
        "id": "E8sfwghXBoSZ",
        "outputId": "5690eef0-e803-496c-d180-bd5ffa0e912c"
      },
      "execution_count": 29,
      "outputs": [
        {
          "output_type": "execute_result",
          "data": {
            "text/plain": [
              "<tf.Tensor: shape=(2,), dtype=int64, numpy=array([14, 56])>"
            ]
          },
          "metadata": {},
          "execution_count": 29
        }
      ]
    },
    {
      "cell_type": "code",
      "source": [
        "A = A[..., tf.newaxis]\n",
        "A"
      ],
      "metadata": {
        "colab": {
          "base_uri": "https://localhost:8080/"
        },
        "id": "sgQsC1lACrQR",
        "outputId": "dbc3e8a1-c76f-4092-9c30-d99870c09cd5"
      },
      "execution_count": 30,
      "outputs": [
        {
          "output_type": "execute_result",
          "data": {
            "text/plain": [
              "<tf.Tensor: shape=(2, 4, 3, 1), dtype=int64, numpy=\n",
              "array([[[[53],\n",
              "         [17],\n",
              "         [54]],\n",
              "\n",
              "        [[74],\n",
              "         [60],\n",
              "         [66]],\n",
              "\n",
              "        [[46],\n",
              "         [16],\n",
              "         [26]],\n",
              "\n",
              "        [[45],\n",
              "         [18],\n",
              "         [14]]],\n",
              "\n",
              "\n",
              "       [[[ 5],\n",
              "         [36],\n",
              "         [49]],\n",
              "\n",
              "        [[56],\n",
              "         [32],\n",
              "         [82]],\n",
              "\n",
              "        [[87],\n",
              "         [56],\n",
              "         [78]],\n",
              "\n",
              "        [[80],\n",
              "         [23],\n",
              "         [56]]]])>"
            ]
          },
          "metadata": {},
          "execution_count": 30
        }
      ]
    },
    {
      "cell_type": "code",
      "source": [
        "tf.expand_dims(A, axis=1)"
      ],
      "metadata": {
        "colab": {
          "base_uri": "https://localhost:8080/"
        },
        "id": "VxiBG6k7DVLK",
        "outputId": "5ab3ac63-5c04-483d-a966-2ec5bef090e5"
      },
      "execution_count": 31,
      "outputs": [
        {
          "output_type": "execute_result",
          "data": {
            "text/plain": [
              "<tf.Tensor: shape=(2, 1, 4, 3, 1), dtype=int64, numpy=\n",
              "array([[[[[53],\n",
              "          [17],\n",
              "          [54]],\n",
              "\n",
              "         [[74],\n",
              "          [60],\n",
              "          [66]],\n",
              "\n",
              "         [[46],\n",
              "          [16],\n",
              "          [26]],\n",
              "\n",
              "         [[45],\n",
              "          [18],\n",
              "          [14]]]],\n",
              "\n",
              "\n",
              "\n",
              "       [[[[ 5],\n",
              "          [36],\n",
              "          [49]],\n",
              "\n",
              "         [[56],\n",
              "          [32],\n",
              "          [82]],\n",
              "\n",
              "         [[87],\n",
              "          [56],\n",
              "          [78]],\n",
              "\n",
              "         [[80],\n",
              "          [23],\n",
              "          [56]]]]])>"
            ]
          },
          "metadata": {},
          "execution_count": 31
        }
      ]
    },
    {
      "cell_type": "code",
      "source": [
        "A"
      ],
      "metadata": {
        "colab": {
          "base_uri": "https://localhost:8080/"
        },
        "id": "Qy65LAE_EIAP",
        "outputId": "580dbaba-f7ba-47d8-c359-9ae6e3f8f6f2"
      },
      "execution_count": 32,
      "outputs": [
        {
          "output_type": "execute_result",
          "data": {
            "text/plain": [
              "<tf.Tensor: shape=(2, 4, 3, 1), dtype=int64, numpy=\n",
              "array([[[[53],\n",
              "         [17],\n",
              "         [54]],\n",
              "\n",
              "        [[74],\n",
              "         [60],\n",
              "         [66]],\n",
              "\n",
              "        [[46],\n",
              "         [16],\n",
              "         [26]],\n",
              "\n",
              "        [[45],\n",
              "         [18],\n",
              "         [14]]],\n",
              "\n",
              "\n",
              "       [[[ 5],\n",
              "         [36],\n",
              "         [49]],\n",
              "\n",
              "        [[56],\n",
              "         [32],\n",
              "         [82]],\n",
              "\n",
              "        [[87],\n",
              "         [56],\n",
              "         [78]],\n",
              "\n",
              "        [[80],\n",
              "         [23],\n",
              "         [56]]]])>"
            ]
          },
          "metadata": {},
          "execution_count": 32
        }
      ]
    },
    {
      "cell_type": "code",
      "source": [
        "A+5"
      ],
      "metadata": {
        "colab": {
          "base_uri": "https://localhost:8080/"
        },
        "id": "fyNHTJqxExyb",
        "outputId": "71a911e1-2b0d-4551-9608-d292c99019c1"
      },
      "execution_count": 33,
      "outputs": [
        {
          "output_type": "execute_result",
          "data": {
            "text/plain": [
              "<tf.Tensor: shape=(2, 4, 3, 1), dtype=int64, numpy=\n",
              "array([[[[58],\n",
              "         [22],\n",
              "         [59]],\n",
              "\n",
              "        [[79],\n",
              "         [65],\n",
              "         [71]],\n",
              "\n",
              "        [[51],\n",
              "         [21],\n",
              "         [31]],\n",
              "\n",
              "        [[50],\n",
              "         [23],\n",
              "         [19]]],\n",
              "\n",
              "\n",
              "       [[[10],\n",
              "         [41],\n",
              "         [54]],\n",
              "\n",
              "        [[61],\n",
              "         [37],\n",
              "         [87]],\n",
              "\n",
              "        [[92],\n",
              "         [61],\n",
              "         [83]],\n",
              "\n",
              "        [[85],\n",
              "         [28],\n",
              "         [61]]]])>"
            ]
          },
          "metadata": {},
          "execution_count": 33
        }
      ]
    },
    {
      "cell_type": "code",
      "source": [
        "A-10"
      ],
      "metadata": {
        "colab": {
          "base_uri": "https://localhost:8080/"
        },
        "id": "5giWXNz8IdQj",
        "outputId": "ab7a2099-b45e-463e-a95c-5492bcc84308"
      },
      "execution_count": 34,
      "outputs": [
        {
          "output_type": "execute_result",
          "data": {
            "text/plain": [
              "<tf.Tensor: shape=(2, 4, 3, 1), dtype=int64, numpy=\n",
              "array([[[[43],\n",
              "         [ 7],\n",
              "         [44]],\n",
              "\n",
              "        [[64],\n",
              "         [50],\n",
              "         [56]],\n",
              "\n",
              "        [[36],\n",
              "         [ 6],\n",
              "         [16]],\n",
              "\n",
              "        [[35],\n",
              "         [ 8],\n",
              "         [ 4]]],\n",
              "\n",
              "\n",
              "       [[[-5],\n",
              "         [26],\n",
              "         [39]],\n",
              "\n",
              "        [[46],\n",
              "         [22],\n",
              "         [72]],\n",
              "\n",
              "        [[77],\n",
              "         [46],\n",
              "         [68]],\n",
              "\n",
              "        [[70],\n",
              "         [13],\n",
              "         [46]]]])>"
            ]
          },
          "metadata": {},
          "execution_count": 34
        }
      ]
    },
    {
      "cell_type": "code",
      "source": [
        "A/2"
      ],
      "metadata": {
        "colab": {
          "base_uri": "https://localhost:8080/"
        },
        "id": "mckHCL9xIhfo",
        "outputId": "469d92a6-d864-4d3e-e313-f80a8806d580"
      },
      "execution_count": 35,
      "outputs": [
        {
          "output_type": "execute_result",
          "data": {
            "text/plain": [
              "<tf.Tensor: shape=(2, 4, 3, 1), dtype=float64, numpy=\n",
              "array([[[[26.5],\n",
              "         [ 8.5],\n",
              "         [27. ]],\n",
              "\n",
              "        [[37. ],\n",
              "         [30. ],\n",
              "         [33. ]],\n",
              "\n",
              "        [[23. ],\n",
              "         [ 8. ],\n",
              "         [13. ]],\n",
              "\n",
              "        [[22.5],\n",
              "         [ 9. ],\n",
              "         [ 7. ]]],\n",
              "\n",
              "\n",
              "       [[[ 2.5],\n",
              "         [18. ],\n",
              "         [24.5]],\n",
              "\n",
              "        [[28. ],\n",
              "         [16. ],\n",
              "         [41. ]],\n",
              "\n",
              "        [[43.5],\n",
              "         [28. ],\n",
              "         [39. ]],\n",
              "\n",
              "        [[40. ],\n",
              "         [11.5],\n",
              "         [28. ]]]])>"
            ]
          },
          "metadata": {},
          "execution_count": 35
        }
      ]
    },
    {
      "cell_type": "code",
      "source": [
        "A*23"
      ],
      "metadata": {
        "colab": {
          "base_uri": "https://localhost:8080/"
        },
        "id": "BKDBzDPBIkTB",
        "outputId": "ad55f233-c98e-4261-bdfa-1eb8fdc87803"
      },
      "execution_count": 36,
      "outputs": [
        {
          "output_type": "execute_result",
          "data": {
            "text/plain": [
              "<tf.Tensor: shape=(2, 4, 3, 1), dtype=int64, numpy=\n",
              "array([[[[1219],\n",
              "         [ 391],\n",
              "         [1242]],\n",
              "\n",
              "        [[1702],\n",
              "         [1380],\n",
              "         [1518]],\n",
              "\n",
              "        [[1058],\n",
              "         [ 368],\n",
              "         [ 598]],\n",
              "\n",
              "        [[1035],\n",
              "         [ 414],\n",
              "         [ 322]]],\n",
              "\n",
              "\n",
              "       [[[ 115],\n",
              "         [ 828],\n",
              "         [1127]],\n",
              "\n",
              "        [[1288],\n",
              "         [ 736],\n",
              "         [1886]],\n",
              "\n",
              "        [[2001],\n",
              "         [1288],\n",
              "         [1794]],\n",
              "\n",
              "        [[1840],\n",
              "         [ 529],\n",
              "         [1288]]]])>"
            ]
          },
          "metadata": {},
          "execution_count": 36
        }
      ]
    },
    {
      "cell_type": "code",
      "source": [
        "tf.multiply(A, 10)"
      ],
      "metadata": {
        "colab": {
          "base_uri": "https://localhost:8080/"
        },
        "id": "uhYrW7JHIm98",
        "outputId": "e7022c84-b57e-495d-9a66-50d00583c026"
      },
      "execution_count": 37,
      "outputs": [
        {
          "output_type": "execute_result",
          "data": {
            "text/plain": [
              "<tf.Tensor: shape=(2, 4, 3, 1), dtype=int64, numpy=\n",
              "array([[[[530],\n",
              "         [170],\n",
              "         [540]],\n",
              "\n",
              "        [[740],\n",
              "         [600],\n",
              "         [660]],\n",
              "\n",
              "        [[460],\n",
              "         [160],\n",
              "         [260]],\n",
              "\n",
              "        [[450],\n",
              "         [180],\n",
              "         [140]]],\n",
              "\n",
              "\n",
              "       [[[ 50],\n",
              "         [360],\n",
              "         [490]],\n",
              "\n",
              "        [[560],\n",
              "         [320],\n",
              "         [820]],\n",
              "\n",
              "        [[870],\n",
              "         [560],\n",
              "         [780]],\n",
              "\n",
              "        [[800],\n",
              "         [230],\n",
              "         [560]]]])>"
            ]
          },
          "metadata": {},
          "execution_count": 37
        }
      ]
    },
    {
      "cell_type": "code",
      "source": [
        "A"
      ],
      "metadata": {
        "colab": {
          "base_uri": "https://localhost:8080/"
        },
        "id": "NwMx-8KnJI57",
        "outputId": "76197892-8106-4b3d-d405-a828d1813cd1"
      },
      "execution_count": 38,
      "outputs": [
        {
          "output_type": "execute_result",
          "data": {
            "text/plain": [
              "<tf.Tensor: shape=(2, 4, 3, 1), dtype=int64, numpy=\n",
              "array([[[[53],\n",
              "         [17],\n",
              "         [54]],\n",
              "\n",
              "        [[74],\n",
              "         [60],\n",
              "         [66]],\n",
              "\n",
              "        [[46],\n",
              "         [16],\n",
              "         [26]],\n",
              "\n",
              "        [[45],\n",
              "         [18],\n",
              "         [14]]],\n",
              "\n",
              "\n",
              "       [[[ 5],\n",
              "         [36],\n",
              "         [49]],\n",
              "\n",
              "        [[56],\n",
              "         [32],\n",
              "         [82]],\n",
              "\n",
              "        [[87],\n",
              "         [56],\n",
              "         [78]],\n",
              "\n",
              "        [[80],\n",
              "         [23],\n",
              "         [56]]]])>"
            ]
          },
          "metadata": {},
          "execution_count": 38
        }
      ]
    },
    {
      "cell_type": "code",
      "source": [
        "A * A"
      ],
      "metadata": {
        "colab": {
          "base_uri": "https://localhost:8080/"
        },
        "id": "qTy61RrcLcPC",
        "outputId": "05364929-f7a7-4dda-b5e9-80f1e48354cf"
      },
      "execution_count": 39,
      "outputs": [
        {
          "output_type": "execute_result",
          "data": {
            "text/plain": [
              "<tf.Tensor: shape=(2, 4, 3, 1), dtype=int64, numpy=\n",
              "array([[[[2809],\n",
              "         [ 289],\n",
              "         [2916]],\n",
              "\n",
              "        [[5476],\n",
              "         [3600],\n",
              "         [4356]],\n",
              "\n",
              "        [[2116],\n",
              "         [ 256],\n",
              "         [ 676]],\n",
              "\n",
              "        [[2025],\n",
              "         [ 324],\n",
              "         [ 196]]],\n",
              "\n",
              "\n",
              "       [[[  25],\n",
              "         [1296],\n",
              "         [2401]],\n",
              "\n",
              "        [[3136],\n",
              "         [1024],\n",
              "         [6724]],\n",
              "\n",
              "        [[7569],\n",
              "         [3136],\n",
              "         [6084]],\n",
              "\n",
              "        [[6400],\n",
              "         [ 529],\n",
              "         [3136]]]])>"
            ]
          },
          "metadata": {},
          "execution_count": 39
        }
      ]
    },
    {
      "cell_type": "code",
      "source": [
        "X = tf.constant([[1,2],\n",
        "                 [3,4],\n",
        "                 [5,6]])\n",
        "Y = tf.constant([[10,10,10],\n",
        "                 [10,10,10],\n",
        "                 ])\n",
        "X, Y"
      ],
      "metadata": {
        "colab": {
          "base_uri": "https://localhost:8080/"
        },
        "id": "f8Fmu_ipLg7Q",
        "outputId": "ef8bb18f-a47e-4ea8-ea8f-138184fb89a3"
      },
      "execution_count": 40,
      "outputs": [
        {
          "output_type": "execute_result",
          "data": {
            "text/plain": [
              "(<tf.Tensor: shape=(3, 2), dtype=int32, numpy=\n",
              " array([[1, 2],\n",
              "        [3, 4],\n",
              "        [5, 6]], dtype=int32)>, <tf.Tensor: shape=(2, 3), dtype=int32, numpy=\n",
              " array([[10, 10, 10],\n",
              "        [10, 10, 10]], dtype=int32)>)"
            ]
          },
          "metadata": {},
          "execution_count": 40
        }
      ]
    },
    {
      "cell_type": "code",
      "source": [
        "X @ Y"
      ],
      "metadata": {
        "colab": {
          "base_uri": "https://localhost:8080/"
        },
        "id": "62WMWeVOLkCR",
        "outputId": "ea5beb4c-8623-4039-aaf6-a3c4a72792a2"
      },
      "execution_count": 41,
      "outputs": [
        {
          "output_type": "execute_result",
          "data": {
            "text/plain": [
              "<tf.Tensor: shape=(3, 3), dtype=int32, numpy=\n",
              "array([[ 30,  30,  30],\n",
              "       [ 70,  70,  70],\n",
              "       [110, 110, 110]], dtype=int32)>"
            ]
          },
          "metadata": {},
          "execution_count": 41
        }
      ]
    },
    {
      "cell_type": "code",
      "source": [
        "tf.matmul(X,Y)"
      ],
      "metadata": {
        "colab": {
          "base_uri": "https://localhost:8080/"
        },
        "id": "vcUKDd22Mouq",
        "outputId": "f69ab339-a230-462f-dfe0-3714a3a666af"
      },
      "execution_count": 42,
      "outputs": [
        {
          "output_type": "execute_result",
          "data": {
            "text/plain": [
              "<tf.Tensor: shape=(3, 3), dtype=int32, numpy=\n",
              "array([[ 30,  30,  30],\n",
              "       [ 70,  70,  70],\n",
              "       [110, 110, 110]], dtype=int32)>"
            ]
          },
          "metadata": {},
          "execution_count": 42
        }
      ]
    },
    {
      "cell_type": "code",
      "source": [
        "X"
      ],
      "metadata": {
        "colab": {
          "base_uri": "https://localhost:8080/"
        },
        "id": "ShvBEo-FM3GZ",
        "outputId": "8b677985-2cc1-46ad-bb53-1b332d30b012"
      },
      "execution_count": 43,
      "outputs": [
        {
          "output_type": "execute_result",
          "data": {
            "text/plain": [
              "<tf.Tensor: shape=(3, 2), dtype=int32, numpy=\n",
              "array([[1, 2],\n",
              "       [3, 4],\n",
              "       [5, 6]], dtype=int32)>"
            ]
          },
          "metadata": {},
          "execution_count": 43
        }
      ]
    },
    {
      "cell_type": "code",
      "source": [
        "tf.transpose(X)"
      ],
      "metadata": {
        "colab": {
          "base_uri": "https://localhost:8080/"
        },
        "id": "rbayczK0N1yf",
        "outputId": "d98058dd-9517-4074-b675-14afd198884c"
      },
      "execution_count": 44,
      "outputs": [
        {
          "output_type": "execute_result",
          "data": {
            "text/plain": [
              "<tf.Tensor: shape=(2, 3), dtype=int32, numpy=\n",
              "array([[1, 3, 5],\n",
              "       [2, 4, 6]], dtype=int32)>"
            ]
          },
          "metadata": {},
          "execution_count": 44
        }
      ]
    },
    {
      "cell_type": "code",
      "source": [
        "tf.reshape(X, shape=(3,2))"
      ],
      "metadata": {
        "colab": {
          "base_uri": "https://localhost:8080/"
        },
        "id": "afvSJFpeN6YT",
        "outputId": "5d8e5380-510e-427e-e4c7-2810144d0a9b"
      },
      "execution_count": 45,
      "outputs": [
        {
          "output_type": "execute_result",
          "data": {
            "text/plain": [
              "<tf.Tensor: shape=(3, 2), dtype=int32, numpy=\n",
              "array([[1, 2],\n",
              "       [3, 4],\n",
              "       [5, 6]], dtype=int32)>"
            ]
          },
          "metadata": {},
          "execution_count": 45
        }
      ]
    },
    {
      "cell_type": "code",
      "source": [
        "X, Y"
      ],
      "metadata": {
        "colab": {
          "base_uri": "https://localhost:8080/"
        },
        "id": "iVpYGMYtOBm_",
        "outputId": "0f307588-5f29-46df-876b-874976ab03da"
      },
      "execution_count": 46,
      "outputs": [
        {
          "output_type": "execute_result",
          "data": {
            "text/plain": [
              "(<tf.Tensor: shape=(3, 2), dtype=int32, numpy=\n",
              " array([[1, 2],\n",
              "        [3, 4],\n",
              "        [5, 6]], dtype=int32)>, <tf.Tensor: shape=(2, 3), dtype=int32, numpy=\n",
              " array([[10, 10, 10],\n",
              "        [10, 10, 10]], dtype=int32)>)"
            ]
          },
          "metadata": {},
          "execution_count": 46
        }
      ]
    },
    {
      "cell_type": "code",
      "source": [
        "tf.tensordot(X, Y, axes=1)"
      ],
      "metadata": {
        "colab": {
          "base_uri": "https://localhost:8080/"
        },
        "id": "h3MVWG_ZSZQU",
        "outputId": "8fbf0a48-604b-4274-c886-74067e691939"
      },
      "execution_count": 47,
      "outputs": [
        {
          "output_type": "execute_result",
          "data": {
            "text/plain": [
              "<tf.Tensor: shape=(3, 3), dtype=int32, numpy=\n",
              "array([[ 30,  30,  30],\n",
              "       [ 70,  70,  70],\n",
              "       [110, 110, 110]], dtype=int32)>"
            ]
          },
          "metadata": {},
          "execution_count": 47
        }
      ]
    },
    {
      "cell_type": "markdown",
      "source": [
        "*   `tf.tensordot`\n",
        "*   `tf.matmul`\n",
        "*   `@`\n",
        "\n"
      ],
      "metadata": {
        "id": "pNSwLFzWUcem"
      }
    },
    {
      "cell_type": "markdown",
      "source": [
        "***Datatype***"
      ],
      "metadata": {
        "id": "eth7pG2fKFj2"
      }
    },
    {
      "cell_type": "code",
      "source": [
        "A = tf.constant([1.2, 2.3])\n",
        "A"
      ],
      "metadata": {
        "id": "J-Wnm5ocSdU_",
        "colab": {
          "base_uri": "https://localhost:8080/"
        },
        "outputId": "0aafad9d-a056-47da-e1a3-cc2e2aa69891"
      },
      "execution_count": 48,
      "outputs": [
        {
          "output_type": "execute_result",
          "data": {
            "text/plain": [
              "<tf.Tensor: shape=(2,), dtype=float32, numpy=array([1.2, 2.3], dtype=float32)>"
            ]
          },
          "metadata": {},
          "execution_count": 48
        }
      ]
    },
    {
      "cell_type": "code",
      "source": [
        "tf.cast(A, dtype=tf.float16)\n"
      ],
      "metadata": {
        "colab": {
          "base_uri": "https://localhost:8080/"
        },
        "id": "k4xm5T3lKUGK",
        "outputId": "c6479dde-95ec-4a06-e14b-eb61f006bc82"
      },
      "execution_count": 50,
      "outputs": [
        {
          "output_type": "execute_result",
          "data": {
            "text/plain": [
              "<tf.Tensor: shape=(2,), dtype=float16, numpy=array([1.2, 2.3], dtype=float16)>"
            ]
          },
          "metadata": {},
          "execution_count": 50
        }
      ]
    },
    {
      "cell_type": "markdown",
      "source": [
        "***Aggregating***"
      ],
      "metadata": {
        "id": "G9IFf0_LLvrc"
      }
    },
    {
      "cell_type": "code",
      "source": [
        "C = np.random.randint(-100,100, size=50)\n",
        "C"
      ],
      "metadata": {
        "colab": {
          "base_uri": "https://localhost:8080/"
        },
        "id": "715sLE4mKlj3",
        "outputId": "72d0d20a-525a-4e0d-9323-94f1c25ad6ea"
      },
      "execution_count": 52,
      "outputs": [
        {
          "output_type": "execute_result",
          "data": {
            "text/plain": [
              "array([ 27, -76, -58,   9, -56, -57,  27,   3, -49, -23, -10, -93, -41,\n",
              "       -97,  32, -89, -79, -79, -36, -41,  83,  23,  55,  87,  54, -10,\n",
              "        98,  32,  60,   3, -19,  50,  36, -69,  56,  99, -43,  25, -82,\n",
              "        67,  48, -37,  54, -80,  20,  44, -23,  79, -42,  12])"
            ]
          },
          "metadata": {},
          "execution_count": 52
        }
      ]
    },
    {
      "cell_type": "code",
      "source": [
        "D = tf.constant(C, shape=(10,5))\n",
        "D"
      ],
      "metadata": {
        "colab": {
          "base_uri": "https://localhost:8080/"
        },
        "id": "r0X_LzUkMq-m",
        "outputId": "5504e1e1-b8e3-4bef-a406-59b890b7bab7"
      },
      "execution_count": 54,
      "outputs": [
        {
          "output_type": "execute_result",
          "data": {
            "text/plain": [
              "<tf.Tensor: shape=(10, 5), dtype=int64, numpy=\n",
              "array([[ 27, -76, -58,   9, -56],\n",
              "       [-57,  27,   3, -49, -23],\n",
              "       [-10, -93, -41, -97,  32],\n",
              "       [-89, -79, -79, -36, -41],\n",
              "       [ 83,  23,  55,  87,  54],\n",
              "       [-10,  98,  32,  60,   3],\n",
              "       [-19,  50,  36, -69,  56],\n",
              "       [ 99, -43,  25, -82,  67],\n",
              "       [ 48, -37,  54, -80,  20],\n",
              "       [ 44, -23,  79, -42,  12]])>"
            ]
          },
          "metadata": {},
          "execution_count": 54
        }
      ]
    },
    {
      "cell_type": "code",
      "source": [
        "tf.abs(D)"
      ],
      "metadata": {
        "colab": {
          "base_uri": "https://localhost:8080/"
        },
        "id": "sxOquQiHM9bQ",
        "outputId": "31ee1db9-2287-439f-a9a2-ea20bfea6efa"
      },
      "execution_count": 55,
      "outputs": [
        {
          "output_type": "execute_result",
          "data": {
            "text/plain": [
              "<tf.Tensor: shape=(10, 5), dtype=int64, numpy=\n",
              "array([[27, 76, 58,  9, 56],\n",
              "       [57, 27,  3, 49, 23],\n",
              "       [10, 93, 41, 97, 32],\n",
              "       [89, 79, 79, 36, 41],\n",
              "       [83, 23, 55, 87, 54],\n",
              "       [10, 98, 32, 60,  3],\n",
              "       [19, 50, 36, 69, 56],\n",
              "       [99, 43, 25, 82, 67],\n",
              "       [48, 37, 54, 80, 20],\n",
              "       [44, 23, 79, 42, 12]])>"
            ]
          },
          "metadata": {},
          "execution_count": 55
        }
      ]
    },
    {
      "cell_type": "code",
      "source": [
        "tf.reduce_min(D)"
      ],
      "metadata": {
        "colab": {
          "base_uri": "https://localhost:8080/"
        },
        "id": "ZvyPjcOoNCI4",
        "outputId": "6b4dde75-45fd-4420-e46f-a216d6cb71c1"
      },
      "execution_count": 56,
      "outputs": [
        {
          "output_type": "execute_result",
          "data": {
            "text/plain": [
              "<tf.Tensor: shape=(), dtype=int64, numpy=-97>"
            ]
          },
          "metadata": {},
          "execution_count": 56
        }
      ]
    },
    {
      "cell_type": "code",
      "source": [
        "np.min(D)"
      ],
      "metadata": {
        "colab": {
          "base_uri": "https://localhost:8080/"
        },
        "id": "-i8XbtI4OAKI",
        "outputId": "047aa91c-40d6-4dbd-da51-bbcfa552b4b6"
      },
      "execution_count": 57,
      "outputs": [
        {
          "output_type": "execute_result",
          "data": {
            "text/plain": [
              "-97"
            ]
          },
          "metadata": {},
          "execution_count": 57
        }
      ]
    },
    {
      "cell_type": "code",
      "source": [
        "tf.reduce_max(D)"
      ],
      "metadata": {
        "colab": {
          "base_uri": "https://localhost:8080/"
        },
        "id": "4M3XB1b9OEbe",
        "outputId": "a5a1378f-9958-4d15-b737-9b8830a19f54"
      },
      "execution_count": 58,
      "outputs": [
        {
          "output_type": "execute_result",
          "data": {
            "text/plain": [
              "<tf.Tensor: shape=(), dtype=int64, numpy=99>"
            ]
          },
          "metadata": {},
          "execution_count": 58
        }
      ]
    },
    {
      "cell_type": "code",
      "source": [
        "np.max(D)"
      ],
      "metadata": {
        "colab": {
          "base_uri": "https://localhost:8080/"
        },
        "id": "RxqEgKY7OL0j",
        "outputId": "23af186e-754f-40eb-a67e-6b71698938d0"
      },
      "execution_count": 59,
      "outputs": [
        {
          "output_type": "execute_result",
          "data": {
            "text/plain": [
              "99"
            ]
          },
          "metadata": {},
          "execution_count": 59
        }
      ]
    },
    {
      "cell_type": "code",
      "source": [
        "tf.reduce_mean(D)"
      ],
      "metadata": {
        "colab": {
          "base_uri": "https://localhost:8080/"
        },
        "id": "DJJwsizdOOMA",
        "outputId": "204e9ae1-0105-4b0e-8e15-ce7a09669086"
      },
      "execution_count": 60,
      "outputs": [
        {
          "output_type": "execute_result",
          "data": {
            "text/plain": [
              "<tf.Tensor: shape=(), dtype=int64, numpy=-2>"
            ]
          },
          "metadata": {},
          "execution_count": 60
        }
      ]
    },
    {
      "cell_type": "code",
      "source": [
        "np.mean(D)"
      ],
      "metadata": {
        "colab": {
          "base_uri": "https://localhost:8080/"
        },
        "id": "7GXGBdpZOUR6",
        "outputId": "c78a8f0c-6179-4120-93fe-5bc7d29c627d"
      },
      "execution_count": 61,
      "outputs": [
        {
          "output_type": "execute_result",
          "data": {
            "text/plain": [
              "-2.12"
            ]
          },
          "metadata": {},
          "execution_count": 61
        }
      ]
    },
    {
      "cell_type": "code",
      "source": [
        "tf.reduce_sum(D)"
      ],
      "metadata": {
        "colab": {
          "base_uri": "https://localhost:8080/"
        },
        "id": "2WdOFQt6OZks",
        "outputId": "c1b0d3ea-b847-4d1a-a6e8-20e19cc6878b"
      },
      "execution_count": 62,
      "outputs": [
        {
          "output_type": "execute_result",
          "data": {
            "text/plain": [
              "<tf.Tensor: shape=(), dtype=int64, numpy=-106>"
            ]
          },
          "metadata": {},
          "execution_count": 62
        }
      ]
    },
    {
      "cell_type": "code",
      "source": [
        "np.sum(D)"
      ],
      "metadata": {
        "colab": {
          "base_uri": "https://localhost:8080/"
        },
        "id": "UM-rwWl0Ooj0",
        "outputId": "e1dbd284-f79a-4ee3-fbf5-078efbd4e197"
      },
      "execution_count": 63,
      "outputs": [
        {
          "output_type": "execute_result",
          "data": {
            "text/plain": [
              "-106"
            ]
          },
          "metadata": {},
          "execution_count": 63
        }
      ]
    },
    {
      "cell_type": "code",
      "source": [
        "np.median(D)"
      ],
      "metadata": {
        "colab": {
          "base_uri": "https://localhost:8080/"
        },
        "id": "wRtWO5xkOtSG",
        "outputId": "8009fb32-f922-41b0-8cd1-24d36e7010b3"
      },
      "execution_count": 64,
      "outputs": [
        {
          "output_type": "execute_result",
          "data": {
            "text/plain": [
              "3.0"
            ]
          },
          "metadata": {},
          "execution_count": 64
        }
      ]
    },
    {
      "cell_type": "code",
      "source": [
        "import tensorflow_probability as tfp"
      ],
      "metadata": {
        "id": "nVmHrVi7O7c8"
      },
      "execution_count": 65,
      "outputs": []
    },
    {
      "cell_type": "code",
      "source": [
        "tfp.stats.variance(D)"
      ],
      "metadata": {
        "colab": {
          "base_uri": "https://localhost:8080/"
        },
        "id": "MuKKcBnjPy-h",
        "outputId": "8f5ad2a0-8a9d-4cbb-f04a-ed1e12261366"
      },
      "execution_count": 66,
      "outputs": [
        {
          "output_type": "execute_result",
          "data": {
            "text/plain": [
              "<tf.Tensor: shape=(5,), dtype=int64, numpy=array([3204, 3543, 2530, 3507, 1592])>"
            ]
          },
          "metadata": {},
          "execution_count": 66
        }
      ]
    },
    {
      "cell_type": "code",
      "source": [
        "tfp.stats.stddev(tf.cast(D, dtype=tf.float16))"
      ],
      "metadata": {
        "colab": {
          "base_uri": "https://localhost:8080/"
        },
        "id": "iMLuhMnJP6nq",
        "outputId": "610d5027-34a4-4e5f-a0fb-57b2b1359d3f"
      },
      "execution_count": 68,
      "outputs": [
        {
          "output_type": "execute_result",
          "data": {
            "text/plain": [
              "<tf.Tensor: shape=(5,), dtype=float16, numpy=array([56.62, 59.5 , 50.3 , 59.22, 39.88], dtype=float16)>"
            ]
          },
          "metadata": {},
          "execution_count": 68
        }
      ]
    },
    {
      "cell_type": "markdown",
      "source": [
        "***Positional Maximum and Minimum***"
      ],
      "metadata": {
        "id": "3tnamOukTgkM"
      }
    },
    {
      "cell_type": "code",
      "source": [
        "tf.argmax(C)"
      ],
      "metadata": {
        "colab": {
          "base_uri": "https://localhost:8080/"
        },
        "id": "4PZwubmTQMk5",
        "outputId": "31ef1666-fa32-4d42-8d6a-d2756fda4099"
      },
      "execution_count": 70,
      "outputs": [
        {
          "output_type": "execute_result",
          "data": {
            "text/plain": [
              "<tf.Tensor: shape=(), dtype=int64, numpy=35>"
            ]
          },
          "metadata": {},
          "execution_count": 70
        }
      ]
    },
    {
      "cell_type": "code",
      "source": [
        "C[tf.argmax(C)]"
      ],
      "metadata": {
        "colab": {
          "base_uri": "https://localhost:8080/"
        },
        "id": "3YUFwLQdTp7g",
        "outputId": "3ae5f7e8-4b7b-4889-8c9a-62e875184c58"
      },
      "execution_count": 71,
      "outputs": [
        {
          "output_type": "execute_result",
          "data": {
            "text/plain": [
              "99"
            ]
          },
          "metadata": {},
          "execution_count": 71
        }
      ]
    },
    {
      "cell_type": "code",
      "source": [
        "tf.reduce_max(C)"
      ],
      "metadata": {
        "colab": {
          "base_uri": "https://localhost:8080/"
        },
        "id": "UMgyMJObUHh0",
        "outputId": "a98e265d-1c87-4027-e091-9c0515b441c5"
      },
      "execution_count": 72,
      "outputs": [
        {
          "output_type": "execute_result",
          "data": {
            "text/plain": [
              "<tf.Tensor: shape=(), dtype=int64, numpy=99>"
            ]
          },
          "metadata": {},
          "execution_count": 72
        }
      ]
    },
    {
      "cell_type": "code",
      "source": [
        "tf.argmin(C)"
      ],
      "metadata": {
        "colab": {
          "base_uri": "https://localhost:8080/"
        },
        "id": "SJOJQsfPUMeP",
        "outputId": "c2aed531-8376-456a-a47f-42cc9271b072"
      },
      "execution_count": 73,
      "outputs": [
        {
          "output_type": "execute_result",
          "data": {
            "text/plain": [
              "<tf.Tensor: shape=(), dtype=int64, numpy=13>"
            ]
          },
          "metadata": {},
          "execution_count": 73
        }
      ]
    },
    {
      "cell_type": "code",
      "source": [
        "C[tf.argmin(C)]"
      ],
      "metadata": {
        "colab": {
          "base_uri": "https://localhost:8080/"
        },
        "id": "S35XC-vzUZIs",
        "outputId": "74114c07-dff4-4cfd-f93e-bb329e721a12"
      },
      "execution_count": 76,
      "outputs": [
        {
          "output_type": "execute_result",
          "data": {
            "text/plain": [
              "-97"
            ]
          },
          "metadata": {},
          "execution_count": 76
        }
      ]
    },
    {
      "cell_type": "markdown",
      "source": [
        "***Squeezing***"
      ],
      "metadata": {
        "id": "wsS1lkpgVexr"
      }
    },
    {
      "cell_type": "code",
      "source": [
        "tf.random.set_seed(123)\n",
        "E = tf.constant(tf.random.uniform(shape=[30]), shape=(1,3,1,2,5,1))\n",
        "E"
      ],
      "metadata": {
        "colab": {
          "base_uri": "https://localhost:8080/"
        },
        "id": "gYyU018uUhSH",
        "outputId": "f3d851d6-8fc1-46a2-e445-0c1670dfa1b9"
      },
      "execution_count": 80,
      "outputs": [
        {
          "output_type": "execute_result",
          "data": {
            "text/plain": [
              "<tf.Tensor: shape=(1, 3, 1, 2, 5, 1), dtype=float32, numpy=\n",
              "array([[[[[[0.12615311],\n",
              "           [0.5727513 ],\n",
              "           [0.2993133 ],\n",
              "           [0.5461836 ],\n",
              "           [0.7205157 ]],\n",
              "\n",
              "          [[0.7889533 ],\n",
              "           [0.3076812 ],\n",
              "           [0.48171103],\n",
              "           [0.6537752 ],\n",
              "           [0.12099254]]]],\n",
              "\n",
              "\n",
              "\n",
              "        [[[[0.36291742],\n",
              "           [0.24489999],\n",
              "           [0.22695613],\n",
              "           [0.52010036],\n",
              "           [0.86846626]],\n",
              "\n",
              "          [[0.28618944],\n",
              "           [0.49184704],\n",
              "           [0.6749884 ],\n",
              "           [0.44017053],\n",
              "           [0.48929918]]]],\n",
              "\n",
              "\n",
              "\n",
              "        [[[[0.8056352 ],\n",
              "           [0.8974284 ],\n",
              "           [0.636616  ],\n",
              "           [0.50120056],\n",
              "           [0.48389077]],\n",
              "\n",
              "          [[0.7522563 ],\n",
              "           [0.8064859 ],\n",
              "           [0.4903134 ],\n",
              "           [0.4176178 ],\n",
              "           [0.9197507 ]]]]]], dtype=float32)>"
            ]
          },
          "metadata": {},
          "execution_count": 80
        }
      ]
    },
    {
      "cell_type": "code",
      "source": [
        "tf.squeeze(E)"
      ],
      "metadata": {
        "colab": {
          "base_uri": "https://localhost:8080/"
        },
        "id": "i9fOI8X3V8Xw",
        "outputId": "7b32d6e5-7c5d-4b08-97ae-6e5f1ebb04d2"
      },
      "execution_count": 81,
      "outputs": [
        {
          "output_type": "execute_result",
          "data": {
            "text/plain": [
              "<tf.Tensor: shape=(3, 2, 5), dtype=float32, numpy=\n",
              "array([[[0.12615311, 0.5727513 , 0.2993133 , 0.5461836 , 0.7205157 ],\n",
              "        [0.7889533 , 0.3076812 , 0.48171103, 0.6537752 , 0.12099254]],\n",
              "\n",
              "       [[0.36291742, 0.24489999, 0.22695613, 0.52010036, 0.86846626],\n",
              "        [0.28618944, 0.49184704, 0.6749884 , 0.44017053, 0.48929918]],\n",
              "\n",
              "       [[0.8056352 , 0.8974284 , 0.636616  , 0.50120056, 0.48389077],\n",
              "        [0.7522563 , 0.8064859 , 0.4903134 , 0.4176178 , 0.9197507 ]]],\n",
              "      dtype=float32)>"
            ]
          },
          "metadata": {},
          "execution_count": 81
        }
      ]
    },
    {
      "cell_type": "markdown",
      "source": [
        "***One-Hot Encoding***"
      ],
      "metadata": {
        "id": "qvzho-m2XCgX"
      }
    },
    {
      "cell_type": "code",
      "source": [
        "G = [0,2,3,4,5]\n",
        "tf.one_hot(G, depth=5)"
      ],
      "metadata": {
        "colab": {
          "base_uri": "https://localhost:8080/"
        },
        "id": "rvmdF-zGWRBa",
        "outputId": "7ebefe72-8cbf-4223-b575-07b1a286dbed"
      },
      "execution_count": 88,
      "outputs": [
        {
          "output_type": "execute_result",
          "data": {
            "text/plain": [
              "<tf.Tensor: shape=(5, 5), dtype=float32, numpy=\n",
              "array([[1., 0., 0., 0., 0.],\n",
              "       [0., 0., 1., 0., 0.],\n",
              "       [0., 0., 0., 1., 0.],\n",
              "       [0., 0., 0., 0., 1.],\n",
              "       [0., 0., 0., 0., 0.]], dtype=float32)>"
            ]
          },
          "metadata": {},
          "execution_count": 88
        }
      ]
    },
    {
      "cell_type": "code",
      "source": [
        "tf.one_hot(G, depth=5, on_value='Yes', off_value='Noo')"
      ],
      "metadata": {
        "colab": {
          "base_uri": "https://localhost:8080/"
        },
        "id": "ln5VQWhSXNjb",
        "outputId": "f96f6ed7-7433-4822-a264-d99582c0385e"
      },
      "execution_count": 89,
      "outputs": [
        {
          "output_type": "execute_result",
          "data": {
            "text/plain": [
              "<tf.Tensor: shape=(5, 5), dtype=string, numpy=\n",
              "array([[b'Yes', b'Noo', b'Noo', b'Noo', b'Noo'],\n",
              "       [b'Noo', b'Noo', b'Yes', b'Noo', b'Noo'],\n",
              "       [b'Noo', b'Noo', b'Noo', b'Yes', b'Noo'],\n",
              "       [b'Noo', b'Noo', b'Noo', b'Noo', b'Yes'],\n",
              "       [b'Noo', b'Noo', b'Noo', b'Noo', b'Noo']], dtype=object)>"
            ]
          },
          "metadata": {},
          "execution_count": 89
        }
      ]
    },
    {
      "cell_type": "code",
      "source": [
        "tf.square(G)"
      ],
      "metadata": {
        "colab": {
          "base_uri": "https://localhost:8080/"
        },
        "id": "H3KwHWT3YQZY",
        "outputId": "73ec9b0a-1614-4adf-da91-c7cd9d26fff4"
      },
      "execution_count": 90,
      "outputs": [
        {
          "output_type": "execute_result",
          "data": {
            "text/plain": [
              "<tf.Tensor: shape=(5,), dtype=int32, numpy=array([ 0,  4,  9, 16, 25], dtype=int32)>"
            ]
          },
          "metadata": {},
          "execution_count": 90
        }
      ]
    },
    {
      "cell_type": "code",
      "source": [
        "np.sqrt(G)"
      ],
      "metadata": {
        "colab": {
          "base_uri": "https://localhost:8080/"
        },
        "id": "KiXCGGjOY7Ay",
        "outputId": "4b2da986-44e1-4911-a289-d5469b5793d7"
      },
      "execution_count": 94,
      "outputs": [
        {
          "output_type": "execute_result",
          "data": {
            "text/plain": [
              "array([0.        , 1.41421356, 1.73205081, 2.        , 2.23606798])"
            ]
          },
          "metadata": {},
          "execution_count": 94
        }
      ]
    },
    {
      "cell_type": "code",
      "source": [
        "np.log(G)"
      ],
      "metadata": {
        "colab": {
          "base_uri": "https://localhost:8080/"
        },
        "id": "6__IuSBVZCNx",
        "outputId": "98eea081-ddbe-4a7d-b452-7687e9140e8b"
      },
      "execution_count": 96,
      "outputs": [
        {
          "output_type": "stream",
          "name": "stderr",
          "text": [
            "/usr/local/lib/python3.7/dist-packages/ipykernel_launcher.py:1: RuntimeWarning: divide by zero encountered in log\n",
            "  \"\"\"Entry point for launching an IPython kernel.\n"
          ]
        },
        {
          "output_type": "execute_result",
          "data": {
            "text/plain": [
              "array([      -inf, 0.69314718, 1.09861229, 1.38629436, 1.60943791])"
            ]
          },
          "metadata": {},
          "execution_count": 96
        }
      ]
    },
    {
      "cell_type": "code",
      "source": [
        ""
      ],
      "metadata": {
        "id": "1XttQ3GLZXTC"
      },
      "execution_count": null,
      "outputs": []
    }
  ]
}
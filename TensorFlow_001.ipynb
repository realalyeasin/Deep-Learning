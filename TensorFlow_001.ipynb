{
  "nbformat": 4,
  "nbformat_minor": 0,
  "metadata": {
    "colab": {
      "name": " TensorFlow_001.ipynb",
      "provenance": [],
      "collapsed_sections": [],
      "authorship_tag": "ABX9TyPf2W3EBiJhA8OzYENgrYXD",
      "include_colab_link": true
    },
    "kernelspec": {
      "name": "python3",
      "display_name": "Python 3"
    },
    "language_info": {
      "name": "python"
    }
  },
  "cells": [
    {
      "cell_type": "markdown",
      "metadata": {
        "id": "view-in-github",
        "colab_type": "text"
      },
      "source": [
        "<a href=\"https://colab.research.google.com/github/realalyeasin/Deep-Learning/blob/main/TensorFlow_001.ipynb\" target=\"_parent\"><img src=\"https://colab.research.google.com/assets/colab-badge.svg\" alt=\"Open In Colab\"/></a>"
      ]
    },
    {
      "cell_type": "markdown",
      "source": [
        "# ***Introducion to TensorFlow***\n",
        "---\n",
        "\n",
        "---\n",
        "\n",
        "\n",
        "\n",
        "*   Intro\n",
        "*   Info\n",
        "*   Manipulating\n",
        "*   Numpy\n",
        "*   @tf.function\n",
        "*   GPU\n",
        "\n",
        "\n",
        "\n",
        "\n",
        "\n"
      ],
      "metadata": {
        "id": "9MNgI8k2k93j"
      }
    },
    {
      "cell_type": "markdown",
      "source": [
        "***Intro***"
      ],
      "metadata": {
        "id": "2DlqxJDVnYfe"
      }
    },
    {
      "cell_type": "code",
      "source": [
        "#Importing\n",
        "import tensorflow as tf\n",
        "print(tf.__version__)"
      ],
      "metadata": {
        "colab": {
          "base_uri": "https://localhost:8080/"
        },
        "id": "MOt__dtlncxu",
        "outputId": "8df8c58f-b862-49dd-9552-6ebba4ecfbff"
      },
      "execution_count": 1,
      "outputs": [
        {
          "output_type": "stream",
          "name": "stdout",
          "text": [
            "2.8.0\n"
          ]
        }
      ]
    },
    {
      "cell_type": "markdown",
      "source": [
        "***Creating tensors with tf.constant()***"
      ],
      "metadata": {
        "id": "S2OC8ONNn0pA"
      }
    },
    {
      "cell_type": "code",
      "source": [
        "scaler = tf.constant(120)\n",
        "scaler"
      ],
      "metadata": {
        "colab": {
          "base_uri": "https://localhost:8080/"
        },
        "id": "eZPA5g8JnwAF",
        "outputId": "fc501a20-5cb7-46ec-887e-06422b646c3e"
      },
      "execution_count": 2,
      "outputs": [
        {
          "output_type": "execute_result",
          "data": {
            "text/plain": [
              "<tf.Tensor: shape=(), dtype=int32, numpy=120>"
            ]
          },
          "metadata": {},
          "execution_count": 2
        }
      ]
    },
    {
      "cell_type": "code",
      "source": [
        "scaler.ndim"
      ],
      "metadata": {
        "colab": {
          "base_uri": "https://localhost:8080/"
        },
        "id": "nPLoVKujorBo",
        "outputId": "14d8b439-bf88-43d8-8d38-d2f120f46b8e"
      },
      "execution_count": 3,
      "outputs": [
        {
          "output_type": "execute_result",
          "data": {
            "text/plain": [
              "0"
            ]
          },
          "metadata": {},
          "execution_count": 3
        }
      ]
    },
    {
      "cell_type": "code",
      "source": [
        "vector = tf.constant([76,79,10])\n",
        "vector"
      ],
      "metadata": {
        "colab": {
          "base_uri": "https://localhost:8080/"
        },
        "id": "1LGGjAvuowsN",
        "outputId": "18c50fc4-8949-4fcb-93eb-dd5799202cbb"
      },
      "execution_count": 4,
      "outputs": [
        {
          "output_type": "execute_result",
          "data": {
            "text/plain": [
              "<tf.Tensor: shape=(3,), dtype=int32, numpy=array([76, 79, 10], dtype=int32)>"
            ]
          },
          "metadata": {},
          "execution_count": 4
        }
      ]
    },
    {
      "cell_type": "code",
      "source": [
        "vector.ndim"
      ],
      "metadata": {
        "colab": {
          "base_uri": "https://localhost:8080/"
        },
        "id": "XPRfbHpJqIXf",
        "outputId": "35807279-fcc2-4e8c-86cf-ba9dae90e579"
      },
      "execution_count": 5,
      "outputs": [
        {
          "output_type": "execute_result",
          "data": {
            "text/plain": [
              "1"
            ]
          },
          "metadata": {},
          "execution_count": 5
        }
      ]
    },
    {
      "cell_type": "code",
      "source": [
        "matrix = tf.constant([[263,726,917],[625,27,182]])\n",
        "matrix"
      ],
      "metadata": {
        "colab": {
          "base_uri": "https://localhost:8080/"
        },
        "id": "i-pmGD27qM7N",
        "outputId": "9597ebdb-961f-4463-90f1-75d48c942a77"
      },
      "execution_count": 6,
      "outputs": [
        {
          "output_type": "execute_result",
          "data": {
            "text/plain": [
              "<tf.Tensor: shape=(2, 3), dtype=int32, numpy=\n",
              "array([[263, 726, 917],\n",
              "       [625,  27, 182]], dtype=int32)>"
            ]
          },
          "metadata": {},
          "execution_count": 6
        }
      ]
    },
    {
      "cell_type": "code",
      "source": [
        "matrix.ndim"
      ],
      "metadata": {
        "colab": {
          "base_uri": "https://localhost:8080/"
        },
        "id": "JckV2Njdq0dE",
        "outputId": "970020b1-f0a9-4ab1-d229-8ea4330af566"
      },
      "execution_count": 7,
      "outputs": [
        {
          "output_type": "execute_result",
          "data": {
            "text/plain": [
              "2"
            ]
          },
          "metadata": {},
          "execution_count": 7
        }
      ]
    },
    {
      "cell_type": "code",
      "source": [
        "tensor = tf.constant([[[1,2,3],\n",
        "                       [4,5,6]],\n",
        "                      [[11,12,13],\n",
        "                       [71,52,43]],\n",
        "                      [[22,44,36],\n",
        "                       [22,54,32]]\n",
        "                      ])\n",
        "tensor"
      ],
      "metadata": {
        "colab": {
          "base_uri": "https://localhost:8080/"
        },
        "id": "CinmCOysq3Wy",
        "outputId": "6de01f63-ac62-426f-fba9-03f5793ce8f8"
      },
      "execution_count": 8,
      "outputs": [
        {
          "output_type": "execute_result",
          "data": {
            "text/plain": [
              "<tf.Tensor: shape=(3, 2, 3), dtype=int32, numpy=\n",
              "array([[[ 1,  2,  3],\n",
              "        [ 4,  5,  6]],\n",
              "\n",
              "       [[11, 12, 13],\n",
              "        [71, 52, 43]],\n",
              "\n",
              "       [[22, 44, 36],\n",
              "        [22, 54, 32]]], dtype=int32)>"
            ]
          },
          "metadata": {},
          "execution_count": 8
        }
      ]
    },
    {
      "cell_type": "code",
      "source": [
        "tensor.ndim"
      ],
      "metadata": {
        "colab": {
          "base_uri": "https://localhost:8080/"
        },
        "id": "WFqe1qfNspiE",
        "outputId": "f056130e-842a-4357-c1ef-6f969bf7021a"
      },
      "execution_count": 9,
      "outputs": [
        {
          "output_type": "execute_result",
          "data": {
            "text/plain": [
              "3"
            ]
          },
          "metadata": {},
          "execution_count": 9
        }
      ]
    },
    {
      "cell_type": "code",
      "source": [
        "x = tf.Variable([100,200,300])\n",
        "x"
      ],
      "metadata": {
        "colab": {
          "base_uri": "https://localhost:8080/"
        },
        "id": "eGAo0fNxsx_f",
        "outputId": "dae58d5a-93c2-4a05-94c5-638f1d761316"
      },
      "execution_count": 10,
      "outputs": [
        {
          "output_type": "execute_result",
          "data": {
            "text/plain": [
              "<tf.Variable 'Variable:0' shape=(3,) dtype=int32, numpy=array([100, 200, 300], dtype=int32)>"
            ]
          },
          "metadata": {},
          "execution_count": 10
        }
      ]
    },
    {
      "cell_type": "code",
      "source": [
        "x[2].assign(250)\n",
        "x"
      ],
      "metadata": {
        "colab": {
          "base_uri": "https://localhost:8080/"
        },
        "id": "IexNszDdwkGL",
        "outputId": "c442c692-7d8d-47ea-abcb-0f7a297a759e"
      },
      "execution_count": 11,
      "outputs": [
        {
          "output_type": "execute_result",
          "data": {
            "text/plain": [
              "<tf.Variable 'Variable:0' shape=(3,) dtype=int32, numpy=array([100, 200, 250], dtype=int32)>"
            ]
          },
          "metadata": {},
          "execution_count": 11
        }
      ]
    },
    {
      "cell_type": "markdown",
      "source": [
        "***Random Tensor***"
      ],
      "metadata": {
        "id": "i9jFiCpizFCv"
      }
    },
    {
      "cell_type": "code",
      "source": [
        "x1 = tf.random.Generator.from_seed(10)\n",
        "x1 = x1.normal(shape=(2,1,4))\n",
        "x2 = tf.random.Generator.from_seed(10)\n",
        "x2 = x2.normal(shape=(2,1,4))"
      ],
      "metadata": {
        "id": "q4gyqbQ_zIkI"
      },
      "execution_count": 12,
      "outputs": []
    },
    {
      "cell_type": "code",
      "source": [
        "x1, x2, x1 == x2"
      ],
      "metadata": {
        "colab": {
          "base_uri": "https://localhost:8080/"
        },
        "id": "72bCo1OBzgF5",
        "outputId": "434fd1d4-5467-43ab-e7ff-87706130e7e8"
      },
      "execution_count": 13,
      "outputs": [
        {
          "output_type": "execute_result",
          "data": {
            "text/plain": [
              "(<tf.Tensor: shape=(2, 1, 4), dtype=float32, numpy=\n",
              " array([[[-0.29604465, -0.21134205,  0.01063002,  1.5165398 ]],\n",
              " \n",
              "        [[ 0.27305737, -0.29925638, -0.3652325 ,  0.61883307]]],\n",
              "       dtype=float32)>, <tf.Tensor: shape=(2, 1, 4), dtype=float32, numpy=\n",
              " array([[[-0.29604465, -0.21134205,  0.01063002,  1.5165398 ]],\n",
              " \n",
              "        [[ 0.27305737, -0.29925638, -0.3652325 ,  0.61883307]]],\n",
              "       dtype=float32)>, <tf.Tensor: shape=(2, 1, 4), dtype=bool, numpy=\n",
              " array([[[ True,  True,  True,  True]],\n",
              " \n",
              "        [[ True,  True,  True,  True]]])>)"
            ]
          },
          "metadata": {},
          "execution_count": 13
        }
      ]
    },
    {
      "cell_type": "markdown",
      "source": [
        "***Shuffle***"
      ],
      "metadata": {
        "id": "x9negKhD8J9t"
      }
    },
    {
      "cell_type": "code",
      "source": [
        "tf.random.set_seed(42)\n",
        "tf.random.shuffle(x1)"
      ],
      "metadata": {
        "colab": {
          "base_uri": "https://localhost:8080/"
        },
        "id": "3iicN_1EzhCI",
        "outputId": "079300b8-1a24-4461-8dc9-6be8b136d341"
      },
      "execution_count": 14,
      "outputs": [
        {
          "output_type": "execute_result",
          "data": {
            "text/plain": [
              "<tf.Tensor: shape=(2, 1, 4), dtype=float32, numpy=\n",
              "array([[[ 0.27305737, -0.29925638, -0.3652325 ,  0.61883307]],\n",
              "\n",
              "       [[-0.29604465, -0.21134205,  0.01063002,  1.5165398 ]]],\n",
              "      dtype=float32)>"
            ]
          },
          "metadata": {},
          "execution_count": 14
        }
      ]
    },
    {
      "cell_type": "code",
      "source": [
        "tf.ones([2,10])"
      ],
      "metadata": {
        "colab": {
          "base_uri": "https://localhost:8080/"
        },
        "id": "W5bgTihs8oLE",
        "outputId": "1b18bbd4-abc2-48fa-b938-33ff44336959"
      },
      "execution_count": 15,
      "outputs": [
        {
          "output_type": "execute_result",
          "data": {
            "text/plain": [
              "<tf.Tensor: shape=(2, 10), dtype=float32, numpy=\n",
              "array([[1., 1., 1., 1., 1., 1., 1., 1., 1., 1.],\n",
              "       [1., 1., 1., 1., 1., 1., 1., 1., 1., 1.]], dtype=float32)>"
            ]
          },
          "metadata": {},
          "execution_count": 15
        }
      ]
    },
    {
      "cell_type": "code",
      "source": [
        "tf.zeros([2,10])"
      ],
      "metadata": {
        "colab": {
          "base_uri": "https://localhost:8080/"
        },
        "id": "IH3BvLoj_h0a",
        "outputId": "91b4fd2e-9d0f-4644-82cf-dfce3bd10791"
      },
      "execution_count": 16,
      "outputs": [
        {
          "output_type": "execute_result",
          "data": {
            "text/plain": [
              "<tf.Tensor: shape=(2, 10), dtype=float32, numpy=\n",
              "array([[0., 0., 0., 0., 0., 0., 0., 0., 0., 0.],\n",
              "       [0., 0., 0., 0., 0., 0., 0., 0., 0., 0.]], dtype=float32)>"
            ]
          },
          "metadata": {},
          "execution_count": 16
        }
      ]
    },
    {
      "cell_type": "markdown",
      "source": [
        "***Numpy Array into Tensor***"
      ],
      "metadata": {
        "id": "r1W_oaGq_9ba"
      }
    },
    {
      "cell_type": "code",
      "source": [
        "import numpy as np\n",
        "numpy_A = np.arange(1,20,2, dtype=np.int32)\n",
        "numpy_A"
      ],
      "metadata": {
        "colab": {
          "base_uri": "https://localhost:8080/"
        },
        "id": "UHidxVo3_01c",
        "outputId": "ffbb08ab-9871-4123-c599-323f90b9cd65"
      },
      "execution_count": 17,
      "outputs": [
        {
          "output_type": "execute_result",
          "data": {
            "text/plain": [
              "array([ 1,  3,  5,  7,  9, 11, 13, 15, 17, 19], dtype=int32)"
            ]
          },
          "metadata": {},
          "execution_count": 17
        }
      ]
    },
    {
      "cell_type": "code",
      "source": [
        "A = tf.constant(numpy_A)\n",
        "B = tf.constant(numpy_A, shape=(2,5))"
      ],
      "metadata": {
        "id": "G1bUjTVNBAos"
      },
      "execution_count": 18,
      "outputs": []
    },
    {
      "cell_type": "markdown",
      "source": [
        "***Info***\n",
        "* Shape\n",
        "* Rank\n",
        "* Axis\n",
        "* Size"
      ],
      "metadata": {
        "id": "d39kE1x_DRoE"
      }
    },
    {
      "cell_type": "code",
      "source": [
        "A = tf.ones(shape=[2,3,5,8])\n",
        "A"
      ],
      "metadata": {
        "colab": {
          "base_uri": "https://localhost:8080/"
        },
        "id": "sRHbhwsuBapG",
        "outputId": "33de76fc-242a-4ef6-89aa-9bba0b7d8d0e"
      },
      "execution_count": 19,
      "outputs": [
        {
          "output_type": "execute_result",
          "data": {
            "text/plain": [
              "<tf.Tensor: shape=(2, 3, 5, 8), dtype=float32, numpy=\n",
              "array([[[[1., 1., 1., 1., 1., 1., 1., 1.],\n",
              "         [1., 1., 1., 1., 1., 1., 1., 1.],\n",
              "         [1., 1., 1., 1., 1., 1., 1., 1.],\n",
              "         [1., 1., 1., 1., 1., 1., 1., 1.],\n",
              "         [1., 1., 1., 1., 1., 1., 1., 1.]],\n",
              "\n",
              "        [[1., 1., 1., 1., 1., 1., 1., 1.],\n",
              "         [1., 1., 1., 1., 1., 1., 1., 1.],\n",
              "         [1., 1., 1., 1., 1., 1., 1., 1.],\n",
              "         [1., 1., 1., 1., 1., 1., 1., 1.],\n",
              "         [1., 1., 1., 1., 1., 1., 1., 1.]],\n",
              "\n",
              "        [[1., 1., 1., 1., 1., 1., 1., 1.],\n",
              "         [1., 1., 1., 1., 1., 1., 1., 1.],\n",
              "         [1., 1., 1., 1., 1., 1., 1., 1.],\n",
              "         [1., 1., 1., 1., 1., 1., 1., 1.],\n",
              "         [1., 1., 1., 1., 1., 1., 1., 1.]]],\n",
              "\n",
              "\n",
              "       [[[1., 1., 1., 1., 1., 1., 1., 1.],\n",
              "         [1., 1., 1., 1., 1., 1., 1., 1.],\n",
              "         [1., 1., 1., 1., 1., 1., 1., 1.],\n",
              "         [1., 1., 1., 1., 1., 1., 1., 1.],\n",
              "         [1., 1., 1., 1., 1., 1., 1., 1.]],\n",
              "\n",
              "        [[1., 1., 1., 1., 1., 1., 1., 1.],\n",
              "         [1., 1., 1., 1., 1., 1., 1., 1.],\n",
              "         [1., 1., 1., 1., 1., 1., 1., 1.],\n",
              "         [1., 1., 1., 1., 1., 1., 1., 1.],\n",
              "         [1., 1., 1., 1., 1., 1., 1., 1.]],\n",
              "\n",
              "        [[1., 1., 1., 1., 1., 1., 1., 1.],\n",
              "         [1., 1., 1., 1., 1., 1., 1., 1.],\n",
              "         [1., 1., 1., 1., 1., 1., 1., 1.],\n",
              "         [1., 1., 1., 1., 1., 1., 1., 1.],\n",
              "         [1., 1., 1., 1., 1., 1., 1., 1.]]]], dtype=float32)>"
            ]
          },
          "metadata": {},
          "execution_count": 19
        }
      ]
    },
    {
      "cell_type": "code",
      "source": [
        "print(\"Datatype\", A.dtype)\n",
        "print(\"Dimensions\", A.ndim)\n",
        "print(\"Shape\", A.shape)\n",
        "print(\"0 Axis\", A.shape[0])\n",
        "print(\"Last Axis\", A.shape[-1])\n",
        "print(\"Total Elements\", tf.size(A))\n",
        "print(\"Total Elements\", tf.size(A).numpy())"
      ],
      "metadata": {
        "colab": {
          "base_uri": "https://localhost:8080/"
        },
        "id": "e96HYoreFIWF",
        "outputId": "143fecd4-d091-4d43-a885-7d45cdcde871"
      },
      "execution_count": 20,
      "outputs": [
        {
          "output_type": "stream",
          "name": "stdout",
          "text": [
            "Datatype <dtype: 'float32'>\n",
            "Dimensions 4\n",
            "Shape (2, 3, 5, 8)\n",
            "0 Axis 2\n",
            "Last Axis 8\n",
            "Total Elements tf.Tensor(240, shape=(), dtype=int32)\n",
            "Total Elements 240\n"
          ]
        }
      ]
    },
    {
      "cell_type": "markdown",
      "source": [
        "***Indexing***"
      ],
      "metadata": {
        "id": "QPVR2azQ9Esp"
      }
    },
    {
      "cell_type": "code",
      "source": [
        "a = np.random.randint(5,100, size=24)\n",
        "tf.constant(a)"
      ],
      "metadata": {
        "id": "WCl52OGQFXpW",
        "colab": {
          "base_uri": "https://localhost:8080/"
        },
        "outputId": "c55ded81-1771-43c7-cc1e-dfdce4b39011"
      },
      "execution_count": 31,
      "outputs": [
        {
          "output_type": "execute_result",
          "data": {
            "text/plain": [
              "<tf.Tensor: shape=(24,), dtype=int64, numpy=\n",
              "array([40, 21, 27, 26, 54, 34, 96, 77, 65, 67, 71, 27, 71, 45, 18, 74, 71,\n",
              "       94, 49, 56, 11, 53, 23, 26])>"
            ]
          },
          "metadata": {},
          "execution_count": 31
        }
      ]
    },
    {
      "cell_type": "code",
      "source": [
        "a[:6]"
      ],
      "metadata": {
        "colab": {
          "base_uri": "https://localhost:8080/"
        },
        "id": "y0iXtG6r-FDg",
        "outputId": "347a3ab7-671d-4c28-e42e-5caf29f74320"
      },
      "execution_count": 32,
      "outputs": [
        {
          "output_type": "execute_result",
          "data": {
            "text/plain": [
              "array([40, 21, 27, 26, 54, 34])"
            ]
          },
          "metadata": {},
          "execution_count": 32
        }
      ]
    },
    {
      "cell_type": "code",
      "source": [
        "A = tf.constant(a, shape=[2,4,3])\n",
        "A"
      ],
      "metadata": {
        "colab": {
          "base_uri": "https://localhost:8080/"
        },
        "id": "FjtqrKUE-ZEC",
        "outputId": "9ea0f4e1-9f06-4fda-9402-f973b946828d"
      },
      "execution_count": 54,
      "outputs": [
        {
          "output_type": "execute_result",
          "data": {
            "text/plain": [
              "<tf.Tensor: shape=(2, 4, 3), dtype=int64, numpy=\n",
              "array([[[40, 21, 27],\n",
              "        [26, 54, 34],\n",
              "        [96, 77, 65],\n",
              "        [67, 71, 27]],\n",
              "\n",
              "       [[71, 45, 18],\n",
              "        [74, 71, 94],\n",
              "        [49, 56, 11],\n",
              "        [53, 23, 26]]])>"
            ]
          },
          "metadata": {},
          "execution_count": 54
        }
      ]
    },
    {
      "cell_type": "code",
      "source": [
        "A[:1,-1,:2]"
      ],
      "metadata": {
        "colab": {
          "base_uri": "https://localhost:8080/"
        },
        "id": "vKrS3sAz_AWD",
        "outputId": "7c211204-7ffa-45e6-904b-14622e472a3c"
      },
      "execution_count": 55,
      "outputs": [
        {
          "output_type": "execute_result",
          "data": {
            "text/plain": [
              "<tf.Tensor: shape=(1, 2), dtype=int64, numpy=array([[67, 71]])>"
            ]
          },
          "metadata": {},
          "execution_count": 55
        }
      ]
    },
    {
      "cell_type": "code",
      "source": [
        "A[:1, -2, -2]"
      ],
      "metadata": {
        "colab": {
          "base_uri": "https://localhost:8080/"
        },
        "id": "vTpFffGD_ql4",
        "outputId": "89c33219-42c5-4194-b693-0dfaba9710d8"
      },
      "execution_count": 56,
      "outputs": [
        {
          "output_type": "execute_result",
          "data": {
            "text/plain": [
              "<tf.Tensor: shape=(1,), dtype=int64, numpy=array([77])>"
            ]
          },
          "metadata": {},
          "execution_count": 56
        }
      ]
    },
    {
      "cell_type": "code",
      "source": [
        "A[:1, -2]"
      ],
      "metadata": {
        "colab": {
          "base_uri": "https://localhost:8080/"
        },
        "id": "xo7EYHwwArqB",
        "outputId": "2a944cb0-c0ba-4aba-953b-440152e43796"
      },
      "execution_count": 57,
      "outputs": [
        {
          "output_type": "execute_result",
          "data": {
            "text/plain": [
              "<tf.Tensor: shape=(1, 3), dtype=int64, numpy=array([[96, 77, 65]])>"
            ]
          },
          "metadata": {},
          "execution_count": 57
        }
      ]
    },
    {
      "cell_type": "code",
      "source": [
        "A[:1,:,:1]"
      ],
      "metadata": {
        "colab": {
          "base_uri": "https://localhost:8080/"
        },
        "id": "LwYbwEBjBzU8",
        "outputId": "b192b295-2449-4a58-ce1c-b93506b3631a"
      },
      "execution_count": 58,
      "outputs": [
        {
          "output_type": "execute_result",
          "data": {
            "text/plain": [
              "<tf.Tensor: shape=(1, 4, 1), dtype=int64, numpy=\n",
              "array([[[40],\n",
              "        [26],\n",
              "        [96],\n",
              "        [67]]])>"
            ]
          },
          "metadata": {},
          "execution_count": 58
        }
      ]
    },
    {
      "cell_type": "code",
      "source": [
        "A[:,-1,-1]"
      ],
      "metadata": {
        "colab": {
          "base_uri": "https://localhost:8080/"
        },
        "id": "E8sfwghXBoSZ",
        "outputId": "1e04d9fa-290a-496f-edbc-466954583b3a"
      },
      "execution_count": 59,
      "outputs": [
        {
          "output_type": "execute_result",
          "data": {
            "text/plain": [
              "<tf.Tensor: shape=(2,), dtype=int64, numpy=array([27, 26])>"
            ]
          },
          "metadata": {},
          "execution_count": 59
        }
      ]
    },
    {
      "cell_type": "code",
      "source": [
        "A = A[..., tf.newaxis]\n",
        "A"
      ],
      "metadata": {
        "colab": {
          "base_uri": "https://localhost:8080/"
        },
        "id": "sgQsC1lACrQR",
        "outputId": "bb133757-6255-4ff7-8fa8-8727704f7d2e"
      },
      "execution_count": 60,
      "outputs": [
        {
          "output_type": "execute_result",
          "data": {
            "text/plain": [
              "<tf.Tensor: shape=(2, 4, 3, 1), dtype=int64, numpy=\n",
              "array([[[[40],\n",
              "         [21],\n",
              "         [27]],\n",
              "\n",
              "        [[26],\n",
              "         [54],\n",
              "         [34]],\n",
              "\n",
              "        [[96],\n",
              "         [77],\n",
              "         [65]],\n",
              "\n",
              "        [[67],\n",
              "         [71],\n",
              "         [27]]],\n",
              "\n",
              "\n",
              "       [[[71],\n",
              "         [45],\n",
              "         [18]],\n",
              "\n",
              "        [[74],\n",
              "         [71],\n",
              "         [94]],\n",
              "\n",
              "        [[49],\n",
              "         [56],\n",
              "         [11]],\n",
              "\n",
              "        [[53],\n",
              "         [23],\n",
              "         [26]]]])>"
            ]
          },
          "metadata": {},
          "execution_count": 60
        }
      ]
    },
    {
      "cell_type": "code",
      "source": [
        "tf.expand_dims(A, axis=1)"
      ],
      "metadata": {
        "colab": {
          "base_uri": "https://localhost:8080/"
        },
        "id": "VxiBG6k7DVLK",
        "outputId": "8a859a24-2d6e-46fa-d331-ecc8d5b6d728"
      },
      "execution_count": 63,
      "outputs": [
        {
          "output_type": "execute_result",
          "data": {
            "text/plain": [
              "<tf.Tensor: shape=(2, 1, 4, 3, 1), dtype=int64, numpy=\n",
              "array([[[[[40],\n",
              "          [21],\n",
              "          [27]],\n",
              "\n",
              "         [[26],\n",
              "          [54],\n",
              "          [34]],\n",
              "\n",
              "         [[96],\n",
              "          [77],\n",
              "          [65]],\n",
              "\n",
              "         [[67],\n",
              "          [71],\n",
              "          [27]]]],\n",
              "\n",
              "\n",
              "\n",
              "       [[[[71],\n",
              "          [45],\n",
              "          [18]],\n",
              "\n",
              "         [[74],\n",
              "          [71],\n",
              "          [94]],\n",
              "\n",
              "         [[49],\n",
              "          [56],\n",
              "          [11]],\n",
              "\n",
              "         [[53],\n",
              "          [23],\n",
              "          [26]]]]])>"
            ]
          },
          "metadata": {},
          "execution_count": 63
        }
      ]
    },
    {
      "cell_type": "code",
      "source": [
        "A"
      ],
      "metadata": {
        "colab": {
          "base_uri": "https://localhost:8080/"
        },
        "id": "Qy65LAE_EIAP",
        "outputId": "ac3b9259-8aa4-431a-be66-d69c94e8bc9f"
      },
      "execution_count": 64,
      "outputs": [
        {
          "output_type": "execute_result",
          "data": {
            "text/plain": [
              "<tf.Tensor: shape=(2, 4, 3, 1), dtype=int64, numpy=\n",
              "array([[[[40],\n",
              "         [21],\n",
              "         [27]],\n",
              "\n",
              "        [[26],\n",
              "         [54],\n",
              "         [34]],\n",
              "\n",
              "        [[96],\n",
              "         [77],\n",
              "         [65]],\n",
              "\n",
              "        [[67],\n",
              "         [71],\n",
              "         [27]]],\n",
              "\n",
              "\n",
              "       [[[71],\n",
              "         [45],\n",
              "         [18]],\n",
              "\n",
              "        [[74],\n",
              "         [71],\n",
              "         [94]],\n",
              "\n",
              "        [[49],\n",
              "         [56],\n",
              "         [11]],\n",
              "\n",
              "        [[53],\n",
              "         [23],\n",
              "         [26]]]])>"
            ]
          },
          "metadata": {},
          "execution_count": 64
        }
      ]
    },
    {
      "cell_type": "code",
      "source": [
        "A+5"
      ],
      "metadata": {
        "colab": {
          "base_uri": "https://localhost:8080/"
        },
        "id": "fyNHTJqxExyb",
        "outputId": "39e25184-1314-4400-d293-034752848bd4"
      },
      "execution_count": 65,
      "outputs": [
        {
          "output_type": "execute_result",
          "data": {
            "text/plain": [
              "<tf.Tensor: shape=(2, 4, 3, 1), dtype=int64, numpy=\n",
              "array([[[[ 45],\n",
              "         [ 26],\n",
              "         [ 32]],\n",
              "\n",
              "        [[ 31],\n",
              "         [ 59],\n",
              "         [ 39]],\n",
              "\n",
              "        [[101],\n",
              "         [ 82],\n",
              "         [ 70]],\n",
              "\n",
              "        [[ 72],\n",
              "         [ 76],\n",
              "         [ 32]]],\n",
              "\n",
              "\n",
              "       [[[ 76],\n",
              "         [ 50],\n",
              "         [ 23]],\n",
              "\n",
              "        [[ 79],\n",
              "         [ 76],\n",
              "         [ 99]],\n",
              "\n",
              "        [[ 54],\n",
              "         [ 61],\n",
              "         [ 16]],\n",
              "\n",
              "        [[ 58],\n",
              "         [ 28],\n",
              "         [ 31]]]])>"
            ]
          },
          "metadata": {},
          "execution_count": 65
        }
      ]
    },
    {
      "cell_type": "code",
      "source": [
        "A-10"
      ],
      "metadata": {
        "colab": {
          "base_uri": "https://localhost:8080/"
        },
        "id": "5giWXNz8IdQj",
        "outputId": "6f6aad36-5f14-418b-9cbf-9932f0d1faff"
      },
      "execution_count": 66,
      "outputs": [
        {
          "output_type": "execute_result",
          "data": {
            "text/plain": [
              "<tf.Tensor: shape=(2, 4, 3, 1), dtype=int64, numpy=\n",
              "array([[[[30],\n",
              "         [11],\n",
              "         [17]],\n",
              "\n",
              "        [[16],\n",
              "         [44],\n",
              "         [24]],\n",
              "\n",
              "        [[86],\n",
              "         [67],\n",
              "         [55]],\n",
              "\n",
              "        [[57],\n",
              "         [61],\n",
              "         [17]]],\n",
              "\n",
              "\n",
              "       [[[61],\n",
              "         [35],\n",
              "         [ 8]],\n",
              "\n",
              "        [[64],\n",
              "         [61],\n",
              "         [84]],\n",
              "\n",
              "        [[39],\n",
              "         [46],\n",
              "         [ 1]],\n",
              "\n",
              "        [[43],\n",
              "         [13],\n",
              "         [16]]]])>"
            ]
          },
          "metadata": {},
          "execution_count": 66
        }
      ]
    },
    {
      "cell_type": "code",
      "source": [
        "A/2"
      ],
      "metadata": {
        "colab": {
          "base_uri": "https://localhost:8080/"
        },
        "id": "mckHCL9xIhfo",
        "outputId": "1fa4aa8e-2639-4888-a7df-c684219d2fab"
      },
      "execution_count": 67,
      "outputs": [
        {
          "output_type": "execute_result",
          "data": {
            "text/plain": [
              "<tf.Tensor: shape=(2, 4, 3, 1), dtype=float64, numpy=\n",
              "array([[[[20. ],\n",
              "         [10.5],\n",
              "         [13.5]],\n",
              "\n",
              "        [[13. ],\n",
              "         [27. ],\n",
              "         [17. ]],\n",
              "\n",
              "        [[48. ],\n",
              "         [38.5],\n",
              "         [32.5]],\n",
              "\n",
              "        [[33.5],\n",
              "         [35.5],\n",
              "         [13.5]]],\n",
              "\n",
              "\n",
              "       [[[35.5],\n",
              "         [22.5],\n",
              "         [ 9. ]],\n",
              "\n",
              "        [[37. ],\n",
              "         [35.5],\n",
              "         [47. ]],\n",
              "\n",
              "        [[24.5],\n",
              "         [28. ],\n",
              "         [ 5.5]],\n",
              "\n",
              "        [[26.5],\n",
              "         [11.5],\n",
              "         [13. ]]]])>"
            ]
          },
          "metadata": {},
          "execution_count": 67
        }
      ]
    },
    {
      "cell_type": "code",
      "source": [
        "A*23"
      ],
      "metadata": {
        "colab": {
          "base_uri": "https://localhost:8080/"
        },
        "id": "BKDBzDPBIkTB",
        "outputId": "69f40d75-154c-4b16-b3ce-61bd162ca195"
      },
      "execution_count": 68,
      "outputs": [
        {
          "output_type": "execute_result",
          "data": {
            "text/plain": [
              "<tf.Tensor: shape=(2, 4, 3, 1), dtype=int64, numpy=\n",
              "array([[[[ 920],\n",
              "         [ 483],\n",
              "         [ 621]],\n",
              "\n",
              "        [[ 598],\n",
              "         [1242],\n",
              "         [ 782]],\n",
              "\n",
              "        [[2208],\n",
              "         [1771],\n",
              "         [1495]],\n",
              "\n",
              "        [[1541],\n",
              "         [1633],\n",
              "         [ 621]]],\n",
              "\n",
              "\n",
              "       [[[1633],\n",
              "         [1035],\n",
              "         [ 414]],\n",
              "\n",
              "        [[1702],\n",
              "         [1633],\n",
              "         [2162]],\n",
              "\n",
              "        [[1127],\n",
              "         [1288],\n",
              "         [ 253]],\n",
              "\n",
              "        [[1219],\n",
              "         [ 529],\n",
              "         [ 598]]]])>"
            ]
          },
          "metadata": {},
          "execution_count": 68
        }
      ]
    },
    {
      "cell_type": "code",
      "source": [
        "tf.multiply(A, 10)"
      ],
      "metadata": {
        "colab": {
          "base_uri": "https://localhost:8080/"
        },
        "id": "uhYrW7JHIm98",
        "outputId": "c4224ba7-3e88-40c0-a2df-f0b756304817"
      },
      "execution_count": 69,
      "outputs": [
        {
          "output_type": "execute_result",
          "data": {
            "text/plain": [
              "<tf.Tensor: shape=(2, 4, 3, 1), dtype=int64, numpy=\n",
              "array([[[[400],\n",
              "         [210],\n",
              "         [270]],\n",
              "\n",
              "        [[260],\n",
              "         [540],\n",
              "         [340]],\n",
              "\n",
              "        [[960],\n",
              "         [770],\n",
              "         [650]],\n",
              "\n",
              "        [[670],\n",
              "         [710],\n",
              "         [270]]],\n",
              "\n",
              "\n",
              "       [[[710],\n",
              "         [450],\n",
              "         [180]],\n",
              "\n",
              "        [[740],\n",
              "         [710],\n",
              "         [940]],\n",
              "\n",
              "        [[490],\n",
              "         [560],\n",
              "         [110]],\n",
              "\n",
              "        [[530],\n",
              "         [230],\n",
              "         [260]]]])>"
            ]
          },
          "metadata": {},
          "execution_count": 69
        }
      ]
    },
    {
      "cell_type": "code",
      "source": [
        "A"
      ],
      "metadata": {
        "colab": {
          "base_uri": "https://localhost:8080/"
        },
        "id": "NwMx-8KnJI57",
        "outputId": "87e79f9a-f81c-45fd-aa99-92080b7d28da"
      },
      "execution_count": 70,
      "outputs": [
        {
          "output_type": "execute_result",
          "data": {
            "text/plain": [
              "<tf.Tensor: shape=(2, 4, 3, 1), dtype=int64, numpy=\n",
              "array([[[[40],\n",
              "         [21],\n",
              "         [27]],\n",
              "\n",
              "        [[26],\n",
              "         [54],\n",
              "         [34]],\n",
              "\n",
              "        [[96],\n",
              "         [77],\n",
              "         [65]],\n",
              "\n",
              "        [[67],\n",
              "         [71],\n",
              "         [27]]],\n",
              "\n",
              "\n",
              "       [[[71],\n",
              "         [45],\n",
              "         [18]],\n",
              "\n",
              "        [[74],\n",
              "         [71],\n",
              "         [94]],\n",
              "\n",
              "        [[49],\n",
              "         [56],\n",
              "         [11]],\n",
              "\n",
              "        [[53],\n",
              "         [23],\n",
              "         [26]]]])>"
            ]
          },
          "metadata": {},
          "execution_count": 70
        }
      ]
    },
    {
      "cell_type": "code",
      "source": [
        "A * A"
      ],
      "metadata": {
        "colab": {
          "base_uri": "https://localhost:8080/"
        },
        "id": "qTy61RrcLcPC",
        "outputId": "7ea62357-eb8c-4487-a3fc-7a0d1f06819a"
      },
      "execution_count": 71,
      "outputs": [
        {
          "output_type": "execute_result",
          "data": {
            "text/plain": [
              "<tf.Tensor: shape=(2, 4, 3, 1), dtype=int64, numpy=\n",
              "array([[[[1600],\n",
              "         [ 441],\n",
              "         [ 729]],\n",
              "\n",
              "        [[ 676],\n",
              "         [2916],\n",
              "         [1156]],\n",
              "\n",
              "        [[9216],\n",
              "         [5929],\n",
              "         [4225]],\n",
              "\n",
              "        [[4489],\n",
              "         [5041],\n",
              "         [ 729]]],\n",
              "\n",
              "\n",
              "       [[[5041],\n",
              "         [2025],\n",
              "         [ 324]],\n",
              "\n",
              "        [[5476],\n",
              "         [5041],\n",
              "         [8836]],\n",
              "\n",
              "        [[2401],\n",
              "         [3136],\n",
              "         [ 121]],\n",
              "\n",
              "        [[2809],\n",
              "         [ 529],\n",
              "         [ 676]]]])>"
            ]
          },
          "metadata": {},
          "execution_count": 71
        }
      ]
    },
    {
      "cell_type": "code",
      "source": [
        "X = tf.constant([[1,2],\n",
        "                 [3,4],\n",
        "                 [5,6]])\n",
        "Y = tf.constant([[10,10,10],\n",
        "                 [10,10,10],\n",
        "                 ])\n",
        "X, Y"
      ],
      "metadata": {
        "colab": {
          "base_uri": "https://localhost:8080/"
        },
        "id": "f8Fmu_ipLg7Q",
        "outputId": "796fb1cc-5467-4218-ced4-9d17c8665ec7"
      },
      "execution_count": 78,
      "outputs": [
        {
          "output_type": "execute_result",
          "data": {
            "text/plain": [
              "(<tf.Tensor: shape=(3, 2), dtype=int32, numpy=\n",
              " array([[1, 2],\n",
              "        [3, 4],\n",
              "        [5, 6]], dtype=int32)>, <tf.Tensor: shape=(2, 3), dtype=int32, numpy=\n",
              " array([[10, 10, 10],\n",
              "        [10, 10, 10]], dtype=int32)>)"
            ]
          },
          "metadata": {},
          "execution_count": 78
        }
      ]
    },
    {
      "cell_type": "code",
      "source": [
        "X @ Y"
      ],
      "metadata": {
        "colab": {
          "base_uri": "https://localhost:8080/"
        },
        "id": "62WMWeVOLkCR",
        "outputId": "5aad582f-68ef-4c9a-b079-9ecf329c5248"
      },
      "execution_count": 79,
      "outputs": [
        {
          "output_type": "execute_result",
          "data": {
            "text/plain": [
              "<tf.Tensor: shape=(3, 3), dtype=int32, numpy=\n",
              "array([[ 30,  30,  30],\n",
              "       [ 70,  70,  70],\n",
              "       [110, 110, 110]], dtype=int32)>"
            ]
          },
          "metadata": {},
          "execution_count": 79
        }
      ]
    },
    {
      "cell_type": "code",
      "source": [
        "tf.matmul(X,Y)"
      ],
      "metadata": {
        "colab": {
          "base_uri": "https://localhost:8080/"
        },
        "id": "vcUKDd22Mouq",
        "outputId": "55ae31e6-ca08-42fa-d654-bceee1c8b92c"
      },
      "execution_count": 81,
      "outputs": [
        {
          "output_type": "execute_result",
          "data": {
            "text/plain": [
              "<tf.Tensor: shape=(3, 3), dtype=int32, numpy=\n",
              "array([[ 30,  30,  30],\n",
              "       [ 70,  70,  70],\n",
              "       [110, 110, 110]], dtype=int32)>"
            ]
          },
          "metadata": {},
          "execution_count": 81
        }
      ]
    },
    {
      "cell_type": "code",
      "source": [
        "X"
      ],
      "metadata": {
        "colab": {
          "base_uri": "https://localhost:8080/"
        },
        "id": "ShvBEo-FM3GZ",
        "outputId": "e005feab-afe2-4c2f-9005-cd9abfd47f52"
      },
      "execution_count": 82,
      "outputs": [
        {
          "output_type": "execute_result",
          "data": {
            "text/plain": [
              "<tf.Tensor: shape=(3, 2), dtype=int32, numpy=\n",
              "array([[1, 2],\n",
              "       [3, 4],\n",
              "       [5, 6]], dtype=int32)>"
            ]
          },
          "metadata": {},
          "execution_count": 82
        }
      ]
    },
    {
      "cell_type": "code",
      "source": [
        "tf.transpose(X)"
      ],
      "metadata": {
        "colab": {
          "base_uri": "https://localhost:8080/"
        },
        "id": "rbayczK0N1yf",
        "outputId": "be58e243-7fd5-4937-d1db-60a8ae8e7fa5"
      },
      "execution_count": 83,
      "outputs": [
        {
          "output_type": "execute_result",
          "data": {
            "text/plain": [
              "<tf.Tensor: shape=(2, 3), dtype=int32, numpy=\n",
              "array([[1, 3, 5],\n",
              "       [2, 4, 6]], dtype=int32)>"
            ]
          },
          "metadata": {},
          "execution_count": 83
        }
      ]
    },
    {
      "cell_type": "code",
      "source": [
        "tf.reshape(X, shape=(3,2))"
      ],
      "metadata": {
        "colab": {
          "base_uri": "https://localhost:8080/"
        },
        "id": "afvSJFpeN6YT",
        "outputId": "7b3449a1-5a47-4367-9fbd-f9ada9d0bb53"
      },
      "execution_count": 84,
      "outputs": [
        {
          "output_type": "execute_result",
          "data": {
            "text/plain": [
              "<tf.Tensor: shape=(3, 2), dtype=int32, numpy=\n",
              "array([[1, 2],\n",
              "       [3, 4],\n",
              "       [5, 6]], dtype=int32)>"
            ]
          },
          "metadata": {},
          "execution_count": 84
        }
      ]
    },
    {
      "cell_type": "code",
      "source": [
        "X, Y"
      ],
      "metadata": {
        "colab": {
          "base_uri": "https://localhost:8080/"
        },
        "id": "iVpYGMYtOBm_",
        "outputId": "90a5224a-2587-4c00-8095-d2d31decfd3d"
      },
      "execution_count": 85,
      "outputs": [
        {
          "output_type": "execute_result",
          "data": {
            "text/plain": [
              "(<tf.Tensor: shape=(3, 2), dtype=int32, numpy=\n",
              " array([[1, 2],\n",
              "        [3, 4],\n",
              "        [5, 6]], dtype=int32)>, <tf.Tensor: shape=(2, 3), dtype=int32, numpy=\n",
              " array([[10, 10, 10],\n",
              "        [10, 10, 10]], dtype=int32)>)"
            ]
          },
          "metadata": {},
          "execution_count": 85
        }
      ]
    },
    {
      "cell_type": "code",
      "source": [
        "tf.tensordot(X, Y, axes=1)"
      ],
      "metadata": {
        "colab": {
          "base_uri": "https://localhost:8080/"
        },
        "id": "h3MVWG_ZSZQU",
        "outputId": "f0c058ea-7a6e-4984-e976-f7299ec60b8b"
      },
      "execution_count": 93,
      "outputs": [
        {
          "output_type": "execute_result",
          "data": {
            "text/plain": [
              "<tf.Tensor: shape=(3, 3), dtype=int32, numpy=\n",
              "array([[ 30,  30,  30],\n",
              "       [ 70,  70,  70],\n",
              "       [110, 110, 110]], dtype=int32)>"
            ]
          },
          "metadata": {},
          "execution_count": 93
        }
      ]
    },
    {
      "cell_type": "markdown",
      "source": [
        "*   `tf.tensordot`\n",
        "*   `tf.matmul`\n",
        "*   `@`\n",
        "\n"
      ],
      "metadata": {
        "id": "pNSwLFzWUcem"
      }
    },
    {
      "cell_type": "code",
      "source": [
        ""
      ],
      "metadata": {
        "id": "J-Wnm5ocSdU_"
      },
      "execution_count": null,
      "outputs": []
    }
  ]
}